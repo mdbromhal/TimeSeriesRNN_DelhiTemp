{
  "nbformat": 4,
  "nbformat_minor": 0,
  "metadata": {
    "colab": {
      "provenance": []
    },
    "kernelspec": {
      "name": "python3",
      "display_name": "Python 3"
    },
    "language_info": {
      "name": "python"
    }
  },
  "cells": [
    {
      "cell_type": "markdown",
      "source": [
        "# TimeSeries RNN for Predicting Delhi's Temperature"
      ],
      "metadata": {
        "id": "pYiQvh4Rph5n"
      }
    },
    {
      "cell_type": "markdown",
      "source": [
        "## Setup - Requires Python 3.7 or above"
      ],
      "metadata": {
        "id": "R0jRuXF1ppYA"
      }
    },
    {
      "cell_type": "code",
      "execution_count": null,
      "metadata": {
        "id": "NQXkbegrpgu-"
      },
      "outputs": [],
      "source": [
        "import sys\n",
        "\n",
        "assert sys.version_info >= (3, 7)"
      ]
    },
    {
      "cell_type": "markdown",
      "source": [
        "And TensorFlow >= 2.8"
      ],
      "metadata": {
        "id": "ewKs8hbKpywW"
      }
    },
    {
      "cell_type": "code",
      "source": [
        "from packaging import version\n",
        "import tensorflow as tf\n",
        "\n",
        "assert version.parse(tf.__version__) >= version.parse(\"2.8.0\")"
      ],
      "metadata": {
        "id": "hIgDmC84pxmf"
      },
      "execution_count": null,
      "outputs": []
    },
    {
      "cell_type": "markdown",
      "source": [
        "Predefine font values"
      ],
      "metadata": {
        "id": "Q69JIdycqIcI"
      }
    },
    {
      "cell_type": "code",
      "source": [
        "import matplotlib.pyplot as plt\n",
        "\n",
        "plt.rc('font', size=14)\n",
        "plt.rc('axes', labelsize=14, titlesize=14)\n",
        "plt.rc('legend', fontsize=14)\n",
        "plt.rc('xtick', labelsize=10)\n",
        "plt.rc('ytick', labelsize=10)"
      ],
      "metadata": {
        "id": "kgb7MFKlqKti"
      },
      "execution_count": null,
      "outputs": []
    },
    {
      "cell_type": "markdown",
      "source": [
        "Making sure there's a GPU"
      ],
      "metadata": {
        "id": "ks1-GbBzquhE"
      }
    },
    {
      "cell_type": "code",
      "source": [
        "if not tf.config.list_physical_devices('GPU'):\n",
        "    print(\"No GPU was detected. Neural nets can be very slow without a GPU.\")\n",
        "    if \"google.colab\" in sys.modules:\n",
        "        print(\"Go to Runtime > Change runtime and select a GPU hardware \"\n",
        "              \"accelerator.\")\n",
        "    if \"kaggle_secrets\" in sys.modules:\n",
        "        print(\"Go to Settings > Accelerator and select GPU.\")"
      ],
      "metadata": {
        "id": "JCEDFX0iqzbs",
        "colab": {
          "base_uri": "https://localhost:8080/"
        },
        "outputId": "d1635618-3406-4a4a-8ad2-0cc1ffd07569"
      },
      "execution_count": null,
      "outputs": [
        {
          "output_type": "stream",
          "name": "stdout",
          "text": [
            "No GPU was detected. Neural nets can be very slow without a GPU.\n",
            "Go to Runtime > Change runtime and select a GPU hardware accelerator.\n"
          ]
        }
      ]
    },
    {
      "cell_type": "markdown",
      "source": [
        "## Dataset Selection\n"
      ],
      "metadata": {
        "id": "rfyM6gx6q1MF"
      }
    },
    {
      "cell_type": "markdown",
      "source": [
        "Converting data file to dataframe, index by date, remove duplicates."
      ],
      "metadata": {
        "id": "ln_7cjvCv3TP"
      }
    },
    {
      "cell_type": "code",
      "source": [
        "import pandas as pd\n",
        "\n",
        "df = pd.read_csv(\"/content/drive/MyDrive/CSC402/Chapter15/DailyDelhiClimateTrain.csv\")\n",
        "df\n",
        "# axis = 1 means column\n",
        "# df = df.drop(df.columns[[0, 1, 2, 3, 4, 6, 7, 8, 9, 10, 12, 13]], axis=1)\n",
        "# df = df.sort_values(\"month\").set_index(\"month\")\n",
        "# df = df.drop_duplicates()"
      ],
      "metadata": {
        "id": "lPEXoUHOv8uH",
        "colab": {
          "base_uri": "https://localhost:8080/",
          "height": 424
        },
        "outputId": "8166f99f-3855-48f0-f8db-a99bee507b1b"
      },
      "execution_count": null,
      "outputs": [
        {
          "output_type": "execute_result",
          "data": {
            "text/plain": [
              "            date   meantemp    humidity  wind_speed  meanpressure\n",
              "0     2013-01-01  10.000000   84.500000    0.000000   1015.666667\n",
              "1     2013-01-02   7.400000   92.000000    2.980000   1017.800000\n",
              "2     2013-01-03   7.166667   87.000000    4.633333   1018.666667\n",
              "3     2013-01-04   8.666667   71.333333    1.233333   1017.166667\n",
              "4     2013-01-05   6.000000   86.833333    3.700000   1016.500000\n",
              "...          ...        ...         ...         ...           ...\n",
              "1457  2016-12-28  17.217391   68.043478    3.547826   1015.565217\n",
              "1458  2016-12-29  15.238095   87.857143    6.000000   1016.904762\n",
              "1459  2016-12-30  14.095238   89.666667    6.266667   1017.904762\n",
              "1460  2016-12-31  15.052632   87.000000    7.325000   1016.100000\n",
              "1461  2017-01-01  10.000000  100.000000    0.000000   1016.000000\n",
              "\n",
              "[1462 rows x 5 columns]"
            ],
            "text/html": [
              "\n",
              "  <div id=\"df-c4e9c55e-7bb7-4a81-94d4-1043383da64b\" class=\"colab-df-container\">\n",
              "    <div>\n",
              "<style scoped>\n",
              "    .dataframe tbody tr th:only-of-type {\n",
              "        vertical-align: middle;\n",
              "    }\n",
              "\n",
              "    .dataframe tbody tr th {\n",
              "        vertical-align: top;\n",
              "    }\n",
              "\n",
              "    .dataframe thead th {\n",
              "        text-align: right;\n",
              "    }\n",
              "</style>\n",
              "<table border=\"1\" class=\"dataframe\">\n",
              "  <thead>\n",
              "    <tr style=\"text-align: right;\">\n",
              "      <th></th>\n",
              "      <th>date</th>\n",
              "      <th>meantemp</th>\n",
              "      <th>humidity</th>\n",
              "      <th>wind_speed</th>\n",
              "      <th>meanpressure</th>\n",
              "    </tr>\n",
              "  </thead>\n",
              "  <tbody>\n",
              "    <tr>\n",
              "      <th>0</th>\n",
              "      <td>2013-01-01</td>\n",
              "      <td>10.000000</td>\n",
              "      <td>84.500000</td>\n",
              "      <td>0.000000</td>\n",
              "      <td>1015.666667</td>\n",
              "    </tr>\n",
              "    <tr>\n",
              "      <th>1</th>\n",
              "      <td>2013-01-02</td>\n",
              "      <td>7.400000</td>\n",
              "      <td>92.000000</td>\n",
              "      <td>2.980000</td>\n",
              "      <td>1017.800000</td>\n",
              "    </tr>\n",
              "    <tr>\n",
              "      <th>2</th>\n",
              "      <td>2013-01-03</td>\n",
              "      <td>7.166667</td>\n",
              "      <td>87.000000</td>\n",
              "      <td>4.633333</td>\n",
              "      <td>1018.666667</td>\n",
              "    </tr>\n",
              "    <tr>\n",
              "      <th>3</th>\n",
              "      <td>2013-01-04</td>\n",
              "      <td>8.666667</td>\n",
              "      <td>71.333333</td>\n",
              "      <td>1.233333</td>\n",
              "      <td>1017.166667</td>\n",
              "    </tr>\n",
              "    <tr>\n",
              "      <th>4</th>\n",
              "      <td>2013-01-05</td>\n",
              "      <td>6.000000</td>\n",
              "      <td>86.833333</td>\n",
              "      <td>3.700000</td>\n",
              "      <td>1016.500000</td>\n",
              "    </tr>\n",
              "    <tr>\n",
              "      <th>...</th>\n",
              "      <td>...</td>\n",
              "      <td>...</td>\n",
              "      <td>...</td>\n",
              "      <td>...</td>\n",
              "      <td>...</td>\n",
              "    </tr>\n",
              "    <tr>\n",
              "      <th>1457</th>\n",
              "      <td>2016-12-28</td>\n",
              "      <td>17.217391</td>\n",
              "      <td>68.043478</td>\n",
              "      <td>3.547826</td>\n",
              "      <td>1015.565217</td>\n",
              "    </tr>\n",
              "    <tr>\n",
              "      <th>1458</th>\n",
              "      <td>2016-12-29</td>\n",
              "      <td>15.238095</td>\n",
              "      <td>87.857143</td>\n",
              "      <td>6.000000</td>\n",
              "      <td>1016.904762</td>\n",
              "    </tr>\n",
              "    <tr>\n",
              "      <th>1459</th>\n",
              "      <td>2016-12-30</td>\n",
              "      <td>14.095238</td>\n",
              "      <td>89.666667</td>\n",
              "      <td>6.266667</td>\n",
              "      <td>1017.904762</td>\n",
              "    </tr>\n",
              "    <tr>\n",
              "      <th>1460</th>\n",
              "      <td>2016-12-31</td>\n",
              "      <td>15.052632</td>\n",
              "      <td>87.000000</td>\n",
              "      <td>7.325000</td>\n",
              "      <td>1016.100000</td>\n",
              "    </tr>\n",
              "    <tr>\n",
              "      <th>1461</th>\n",
              "      <td>2017-01-01</td>\n",
              "      <td>10.000000</td>\n",
              "      <td>100.000000</td>\n",
              "      <td>0.000000</td>\n",
              "      <td>1016.000000</td>\n",
              "    </tr>\n",
              "  </tbody>\n",
              "</table>\n",
              "<p>1462 rows × 5 columns</p>\n",
              "</div>\n",
              "    <div class=\"colab-df-buttons\">\n",
              "\n",
              "  <div class=\"colab-df-container\">\n",
              "    <button class=\"colab-df-convert\" onclick=\"convertToInteractive('df-c4e9c55e-7bb7-4a81-94d4-1043383da64b')\"\n",
              "            title=\"Convert this dataframe to an interactive table.\"\n",
              "            style=\"display:none;\">\n",
              "\n",
              "  <svg xmlns=\"http://www.w3.org/2000/svg\" height=\"24px\" viewBox=\"0 -960 960 960\">\n",
              "    <path d=\"M120-120v-720h720v720H120Zm60-500h600v-160H180v160Zm220 220h160v-160H400v160Zm0 220h160v-160H400v160ZM180-400h160v-160H180v160Zm440 0h160v-160H620v160ZM180-180h160v-160H180v160Zm440 0h160v-160H620v160Z\"/>\n",
              "  </svg>\n",
              "    </button>\n",
              "\n",
              "  <style>\n",
              "    .colab-df-container {\n",
              "      display:flex;\n",
              "      gap: 12px;\n",
              "    }\n",
              "\n",
              "    .colab-df-convert {\n",
              "      background-color: #E8F0FE;\n",
              "      border: none;\n",
              "      border-radius: 50%;\n",
              "      cursor: pointer;\n",
              "      display: none;\n",
              "      fill: #1967D2;\n",
              "      height: 32px;\n",
              "      padding: 0 0 0 0;\n",
              "      width: 32px;\n",
              "    }\n",
              "\n",
              "    .colab-df-convert:hover {\n",
              "      background-color: #E2EBFA;\n",
              "      box-shadow: 0px 1px 2px rgba(60, 64, 67, 0.3), 0px 1px 3px 1px rgba(60, 64, 67, 0.15);\n",
              "      fill: #174EA6;\n",
              "    }\n",
              "\n",
              "    .colab-df-buttons div {\n",
              "      margin-bottom: 4px;\n",
              "    }\n",
              "\n",
              "    [theme=dark] .colab-df-convert {\n",
              "      background-color: #3B4455;\n",
              "      fill: #D2E3FC;\n",
              "    }\n",
              "\n",
              "    [theme=dark] .colab-df-convert:hover {\n",
              "      background-color: #434B5C;\n",
              "      box-shadow: 0px 1px 3px 1px rgba(0, 0, 0, 0.15);\n",
              "      filter: drop-shadow(0px 1px 2px rgba(0, 0, 0, 0.3));\n",
              "      fill: #FFFFFF;\n",
              "    }\n",
              "  </style>\n",
              "\n",
              "    <script>\n",
              "      const buttonEl =\n",
              "        document.querySelector('#df-c4e9c55e-7bb7-4a81-94d4-1043383da64b button.colab-df-convert');\n",
              "      buttonEl.style.display =\n",
              "        google.colab.kernel.accessAllowed ? 'block' : 'none';\n",
              "\n",
              "      async function convertToInteractive(key) {\n",
              "        const element = document.querySelector('#df-c4e9c55e-7bb7-4a81-94d4-1043383da64b');\n",
              "        const dataTable =\n",
              "          await google.colab.kernel.invokeFunction('convertToInteractive',\n",
              "                                                    [key], {});\n",
              "        if (!dataTable) return;\n",
              "\n",
              "        const docLinkHtml = 'Like what you see? Visit the ' +\n",
              "          '<a target=\"_blank\" href=https://colab.research.google.com/notebooks/data_table.ipynb>data table notebook</a>'\n",
              "          + ' to learn more about interactive tables.';\n",
              "        element.innerHTML = '';\n",
              "        dataTable['output_type'] = 'display_data';\n",
              "        await google.colab.output.renderOutput(dataTable, element);\n",
              "        const docLink = document.createElement('div');\n",
              "        docLink.innerHTML = docLinkHtml;\n",
              "        element.appendChild(docLink);\n",
              "      }\n",
              "    </script>\n",
              "  </div>\n",
              "\n",
              "\n",
              "<div id=\"df-20643477-edee-4e3b-aade-1cd26407a618\">\n",
              "  <button class=\"colab-df-quickchart\" onclick=\"quickchart('df-20643477-edee-4e3b-aade-1cd26407a618')\"\n",
              "            title=\"Suggest charts\"\n",
              "            style=\"display:none;\">\n",
              "\n",
              "<svg xmlns=\"http://www.w3.org/2000/svg\" height=\"24px\"viewBox=\"0 0 24 24\"\n",
              "     width=\"24px\">\n",
              "    <g>\n",
              "        <path d=\"M19 3H5c-1.1 0-2 .9-2 2v14c0 1.1.9 2 2 2h14c1.1 0 2-.9 2-2V5c0-1.1-.9-2-2-2zM9 17H7v-7h2v7zm4 0h-2V7h2v10zm4 0h-2v-4h2v4z\"/>\n",
              "    </g>\n",
              "</svg>\n",
              "  </button>\n",
              "\n",
              "<style>\n",
              "  .colab-df-quickchart {\n",
              "      --bg-color: #E8F0FE;\n",
              "      --fill-color: #1967D2;\n",
              "      --hover-bg-color: #E2EBFA;\n",
              "      --hover-fill-color: #174EA6;\n",
              "      --disabled-fill-color: #AAA;\n",
              "      --disabled-bg-color: #DDD;\n",
              "  }\n",
              "\n",
              "  [theme=dark] .colab-df-quickchart {\n",
              "      --bg-color: #3B4455;\n",
              "      --fill-color: #D2E3FC;\n",
              "      --hover-bg-color: #434B5C;\n",
              "      --hover-fill-color: #FFFFFF;\n",
              "      --disabled-bg-color: #3B4455;\n",
              "      --disabled-fill-color: #666;\n",
              "  }\n",
              "\n",
              "  .colab-df-quickchart {\n",
              "    background-color: var(--bg-color);\n",
              "    border: none;\n",
              "    border-radius: 50%;\n",
              "    cursor: pointer;\n",
              "    display: none;\n",
              "    fill: var(--fill-color);\n",
              "    height: 32px;\n",
              "    padding: 0;\n",
              "    width: 32px;\n",
              "  }\n",
              "\n",
              "  .colab-df-quickchart:hover {\n",
              "    background-color: var(--hover-bg-color);\n",
              "    box-shadow: 0 1px 2px rgba(60, 64, 67, 0.3), 0 1px 3px 1px rgba(60, 64, 67, 0.15);\n",
              "    fill: var(--button-hover-fill-color);\n",
              "  }\n",
              "\n",
              "  .colab-df-quickchart-complete:disabled,\n",
              "  .colab-df-quickchart-complete:disabled:hover {\n",
              "    background-color: var(--disabled-bg-color);\n",
              "    fill: var(--disabled-fill-color);\n",
              "    box-shadow: none;\n",
              "  }\n",
              "\n",
              "  .colab-df-spinner {\n",
              "    border: 2px solid var(--fill-color);\n",
              "    border-color: transparent;\n",
              "    border-bottom-color: var(--fill-color);\n",
              "    animation:\n",
              "      spin 1s steps(1) infinite;\n",
              "  }\n",
              "\n",
              "  @keyframes spin {\n",
              "    0% {\n",
              "      border-color: transparent;\n",
              "      border-bottom-color: var(--fill-color);\n",
              "      border-left-color: var(--fill-color);\n",
              "    }\n",
              "    20% {\n",
              "      border-color: transparent;\n",
              "      border-left-color: var(--fill-color);\n",
              "      border-top-color: var(--fill-color);\n",
              "    }\n",
              "    30% {\n",
              "      border-color: transparent;\n",
              "      border-left-color: var(--fill-color);\n",
              "      border-top-color: var(--fill-color);\n",
              "      border-right-color: var(--fill-color);\n",
              "    }\n",
              "    40% {\n",
              "      border-color: transparent;\n",
              "      border-right-color: var(--fill-color);\n",
              "      border-top-color: var(--fill-color);\n",
              "    }\n",
              "    60% {\n",
              "      border-color: transparent;\n",
              "      border-right-color: var(--fill-color);\n",
              "    }\n",
              "    80% {\n",
              "      border-color: transparent;\n",
              "      border-right-color: var(--fill-color);\n",
              "      border-bottom-color: var(--fill-color);\n",
              "    }\n",
              "    90% {\n",
              "      border-color: transparent;\n",
              "      border-bottom-color: var(--fill-color);\n",
              "    }\n",
              "  }\n",
              "</style>\n",
              "\n",
              "  <script>\n",
              "    async function quickchart(key) {\n",
              "      const quickchartButtonEl =\n",
              "        document.querySelector('#' + key + ' button');\n",
              "      quickchartButtonEl.disabled = true;  // To prevent multiple clicks.\n",
              "      quickchartButtonEl.classList.add('colab-df-spinner');\n",
              "      try {\n",
              "        const charts = await google.colab.kernel.invokeFunction(\n",
              "            'suggestCharts', [key], {});\n",
              "      } catch (error) {\n",
              "        console.error('Error during call to suggestCharts:', error);\n",
              "      }\n",
              "      quickchartButtonEl.classList.remove('colab-df-spinner');\n",
              "      quickchartButtonEl.classList.add('colab-df-quickchart-complete');\n",
              "    }\n",
              "    (() => {\n",
              "      let quickchartButtonEl =\n",
              "        document.querySelector('#df-20643477-edee-4e3b-aade-1cd26407a618 button');\n",
              "      quickchartButtonEl.style.display =\n",
              "        google.colab.kernel.accessAllowed ? 'block' : 'none';\n",
              "    })();\n",
              "  </script>\n",
              "</div>\n",
              "\n",
              "  <div id=\"id_3c3a610d-8de5-4a98-a22c-33d867b588d4\">\n",
              "    <style>\n",
              "      .colab-df-generate {\n",
              "        background-color: #E8F0FE;\n",
              "        border: none;\n",
              "        border-radius: 50%;\n",
              "        cursor: pointer;\n",
              "        display: none;\n",
              "        fill: #1967D2;\n",
              "        height: 32px;\n",
              "        padding: 0 0 0 0;\n",
              "        width: 32px;\n",
              "      }\n",
              "\n",
              "      .colab-df-generate:hover {\n",
              "        background-color: #E2EBFA;\n",
              "        box-shadow: 0px 1px 2px rgba(60, 64, 67, 0.3), 0px 1px 3px 1px rgba(60, 64, 67, 0.15);\n",
              "        fill: #174EA6;\n",
              "      }\n",
              "\n",
              "      [theme=dark] .colab-df-generate {\n",
              "        background-color: #3B4455;\n",
              "        fill: #D2E3FC;\n",
              "      }\n",
              "\n",
              "      [theme=dark] .colab-df-generate:hover {\n",
              "        background-color: #434B5C;\n",
              "        box-shadow: 0px 1px 3px 1px rgba(0, 0, 0, 0.15);\n",
              "        filter: drop-shadow(0px 1px 2px rgba(0, 0, 0, 0.3));\n",
              "        fill: #FFFFFF;\n",
              "      }\n",
              "    </style>\n",
              "    <button class=\"colab-df-generate\" onclick=\"generateWithVariable('df')\"\n",
              "            title=\"Generate code using this dataframe.\"\n",
              "            style=\"display:none;\">\n",
              "\n",
              "  <svg xmlns=\"http://www.w3.org/2000/svg\" height=\"24px\"viewBox=\"0 0 24 24\"\n",
              "       width=\"24px\">\n",
              "    <path d=\"M7,19H8.4L18.45,9,17,7.55,7,17.6ZM5,21V16.75L18.45,3.32a2,2,0,0,1,2.83,0l1.4,1.43a1.91,1.91,0,0,1,.58,1.4,1.91,1.91,0,0,1-.58,1.4L9.25,21ZM18.45,9,17,7.55Zm-12,3A5.31,5.31,0,0,0,4.9,8.1,5.31,5.31,0,0,0,1,6.5,5.31,5.31,0,0,0,4.9,4.9,5.31,5.31,0,0,0,6.5,1,5.31,5.31,0,0,0,8.1,4.9,5.31,5.31,0,0,0,12,6.5,5.46,5.46,0,0,0,6.5,12Z\"/>\n",
              "  </svg>\n",
              "    </button>\n",
              "    <script>\n",
              "      (() => {\n",
              "      const buttonEl =\n",
              "        document.querySelector('#id_3c3a610d-8de5-4a98-a22c-33d867b588d4 button.colab-df-generate');\n",
              "      buttonEl.style.display =\n",
              "        google.colab.kernel.accessAllowed ? 'block' : 'none';\n",
              "\n",
              "      buttonEl.onclick = () => {\n",
              "        google.colab.notebook.generateWithVariable('df');\n",
              "      }\n",
              "      })();\n",
              "    </script>\n",
              "  </div>\n",
              "\n",
              "    </div>\n",
              "  </div>\n"
            ],
            "application/vnd.google.colaboratory.intrinsic+json": {
              "type": "dataframe",
              "variable_name": "df",
              "repr_error": "'str' object has no attribute 'empty'"
            }
          },
          "metadata": {},
          "execution_count": 5
        }
      ]
    },
    {
      "cell_type": "code",
      "source": [
        "df.head()"
      ],
      "metadata": {
        "colab": {
          "base_uri": "https://localhost:8080/",
          "height": 206
        },
        "id": "klt_pbUwy2Xd",
        "outputId": "95868fff-8eb3-4794-b407-d16596525373"
      },
      "execution_count": null,
      "outputs": [
        {
          "output_type": "execute_result",
          "data": {
            "text/plain": [
              "         date   meantemp   humidity  wind_speed  meanpressure\n",
              "0  2013-01-01  10.000000  84.500000    0.000000   1015.666667\n",
              "1  2013-01-02   7.400000  92.000000    2.980000   1017.800000\n",
              "2  2013-01-03   7.166667  87.000000    4.633333   1018.666667\n",
              "3  2013-01-04   8.666667  71.333333    1.233333   1017.166667\n",
              "4  2013-01-05   6.000000  86.833333    3.700000   1016.500000"
            ],
            "text/html": [
              "\n",
              "  <div id=\"df-493de6a7-1943-4b0b-a5c3-ab276415f01e\" class=\"colab-df-container\">\n",
              "    <div>\n",
              "<style scoped>\n",
              "    .dataframe tbody tr th:only-of-type {\n",
              "        vertical-align: middle;\n",
              "    }\n",
              "\n",
              "    .dataframe tbody tr th {\n",
              "        vertical-align: top;\n",
              "    }\n",
              "\n",
              "    .dataframe thead th {\n",
              "        text-align: right;\n",
              "    }\n",
              "</style>\n",
              "<table border=\"1\" class=\"dataframe\">\n",
              "  <thead>\n",
              "    <tr style=\"text-align: right;\">\n",
              "      <th></th>\n",
              "      <th>date</th>\n",
              "      <th>meantemp</th>\n",
              "      <th>humidity</th>\n",
              "      <th>wind_speed</th>\n",
              "      <th>meanpressure</th>\n",
              "    </tr>\n",
              "  </thead>\n",
              "  <tbody>\n",
              "    <tr>\n",
              "      <th>0</th>\n",
              "      <td>2013-01-01</td>\n",
              "      <td>10.000000</td>\n",
              "      <td>84.500000</td>\n",
              "      <td>0.000000</td>\n",
              "      <td>1015.666667</td>\n",
              "    </tr>\n",
              "    <tr>\n",
              "      <th>1</th>\n",
              "      <td>2013-01-02</td>\n",
              "      <td>7.400000</td>\n",
              "      <td>92.000000</td>\n",
              "      <td>2.980000</td>\n",
              "      <td>1017.800000</td>\n",
              "    </tr>\n",
              "    <tr>\n",
              "      <th>2</th>\n",
              "      <td>2013-01-03</td>\n",
              "      <td>7.166667</td>\n",
              "      <td>87.000000</td>\n",
              "      <td>4.633333</td>\n",
              "      <td>1018.666667</td>\n",
              "    </tr>\n",
              "    <tr>\n",
              "      <th>3</th>\n",
              "      <td>2013-01-04</td>\n",
              "      <td>8.666667</td>\n",
              "      <td>71.333333</td>\n",
              "      <td>1.233333</td>\n",
              "      <td>1017.166667</td>\n",
              "    </tr>\n",
              "    <tr>\n",
              "      <th>4</th>\n",
              "      <td>2013-01-05</td>\n",
              "      <td>6.000000</td>\n",
              "      <td>86.833333</td>\n",
              "      <td>3.700000</td>\n",
              "      <td>1016.500000</td>\n",
              "    </tr>\n",
              "  </tbody>\n",
              "</table>\n",
              "</div>\n",
              "    <div class=\"colab-df-buttons\">\n",
              "\n",
              "  <div class=\"colab-df-container\">\n",
              "    <button class=\"colab-df-convert\" onclick=\"convertToInteractive('df-493de6a7-1943-4b0b-a5c3-ab276415f01e')\"\n",
              "            title=\"Convert this dataframe to an interactive table.\"\n",
              "            style=\"display:none;\">\n",
              "\n",
              "  <svg xmlns=\"http://www.w3.org/2000/svg\" height=\"24px\" viewBox=\"0 -960 960 960\">\n",
              "    <path d=\"M120-120v-720h720v720H120Zm60-500h600v-160H180v160Zm220 220h160v-160H400v160Zm0 220h160v-160H400v160ZM180-400h160v-160H180v160Zm440 0h160v-160H620v160ZM180-180h160v-160H180v160Zm440 0h160v-160H620v160Z\"/>\n",
              "  </svg>\n",
              "    </button>\n",
              "\n",
              "  <style>\n",
              "    .colab-df-container {\n",
              "      display:flex;\n",
              "      gap: 12px;\n",
              "    }\n",
              "\n",
              "    .colab-df-convert {\n",
              "      background-color: #E8F0FE;\n",
              "      border: none;\n",
              "      border-radius: 50%;\n",
              "      cursor: pointer;\n",
              "      display: none;\n",
              "      fill: #1967D2;\n",
              "      height: 32px;\n",
              "      padding: 0 0 0 0;\n",
              "      width: 32px;\n",
              "    }\n",
              "\n",
              "    .colab-df-convert:hover {\n",
              "      background-color: #E2EBFA;\n",
              "      box-shadow: 0px 1px 2px rgba(60, 64, 67, 0.3), 0px 1px 3px 1px rgba(60, 64, 67, 0.15);\n",
              "      fill: #174EA6;\n",
              "    }\n",
              "\n",
              "    .colab-df-buttons div {\n",
              "      margin-bottom: 4px;\n",
              "    }\n",
              "\n",
              "    [theme=dark] .colab-df-convert {\n",
              "      background-color: #3B4455;\n",
              "      fill: #D2E3FC;\n",
              "    }\n",
              "\n",
              "    [theme=dark] .colab-df-convert:hover {\n",
              "      background-color: #434B5C;\n",
              "      box-shadow: 0px 1px 3px 1px rgba(0, 0, 0, 0.15);\n",
              "      filter: drop-shadow(0px 1px 2px rgba(0, 0, 0, 0.3));\n",
              "      fill: #FFFFFF;\n",
              "    }\n",
              "  </style>\n",
              "\n",
              "    <script>\n",
              "      const buttonEl =\n",
              "        document.querySelector('#df-493de6a7-1943-4b0b-a5c3-ab276415f01e button.colab-df-convert');\n",
              "      buttonEl.style.display =\n",
              "        google.colab.kernel.accessAllowed ? 'block' : 'none';\n",
              "\n",
              "      async function convertToInteractive(key) {\n",
              "        const element = document.querySelector('#df-493de6a7-1943-4b0b-a5c3-ab276415f01e');\n",
              "        const dataTable =\n",
              "          await google.colab.kernel.invokeFunction('convertToInteractive',\n",
              "                                                    [key], {});\n",
              "        if (!dataTable) return;\n",
              "\n",
              "        const docLinkHtml = 'Like what you see? Visit the ' +\n",
              "          '<a target=\"_blank\" href=https://colab.research.google.com/notebooks/data_table.ipynb>data table notebook</a>'\n",
              "          + ' to learn more about interactive tables.';\n",
              "        element.innerHTML = '';\n",
              "        dataTable['output_type'] = 'display_data';\n",
              "        await google.colab.output.renderOutput(dataTable, element);\n",
              "        const docLink = document.createElement('div');\n",
              "        docLink.innerHTML = docLinkHtml;\n",
              "        element.appendChild(docLink);\n",
              "      }\n",
              "    </script>\n",
              "  </div>\n",
              "\n",
              "\n",
              "<div id=\"df-28296fc3-e7ed-4077-96a6-e963e6160d37\">\n",
              "  <button class=\"colab-df-quickchart\" onclick=\"quickchart('df-28296fc3-e7ed-4077-96a6-e963e6160d37')\"\n",
              "            title=\"Suggest charts\"\n",
              "            style=\"display:none;\">\n",
              "\n",
              "<svg xmlns=\"http://www.w3.org/2000/svg\" height=\"24px\"viewBox=\"0 0 24 24\"\n",
              "     width=\"24px\">\n",
              "    <g>\n",
              "        <path d=\"M19 3H5c-1.1 0-2 .9-2 2v14c0 1.1.9 2 2 2h14c1.1 0 2-.9 2-2V5c0-1.1-.9-2-2-2zM9 17H7v-7h2v7zm4 0h-2V7h2v10zm4 0h-2v-4h2v4z\"/>\n",
              "    </g>\n",
              "</svg>\n",
              "  </button>\n",
              "\n",
              "<style>\n",
              "  .colab-df-quickchart {\n",
              "      --bg-color: #E8F0FE;\n",
              "      --fill-color: #1967D2;\n",
              "      --hover-bg-color: #E2EBFA;\n",
              "      --hover-fill-color: #174EA6;\n",
              "      --disabled-fill-color: #AAA;\n",
              "      --disabled-bg-color: #DDD;\n",
              "  }\n",
              "\n",
              "  [theme=dark] .colab-df-quickchart {\n",
              "      --bg-color: #3B4455;\n",
              "      --fill-color: #D2E3FC;\n",
              "      --hover-bg-color: #434B5C;\n",
              "      --hover-fill-color: #FFFFFF;\n",
              "      --disabled-bg-color: #3B4455;\n",
              "      --disabled-fill-color: #666;\n",
              "  }\n",
              "\n",
              "  .colab-df-quickchart {\n",
              "    background-color: var(--bg-color);\n",
              "    border: none;\n",
              "    border-radius: 50%;\n",
              "    cursor: pointer;\n",
              "    display: none;\n",
              "    fill: var(--fill-color);\n",
              "    height: 32px;\n",
              "    padding: 0;\n",
              "    width: 32px;\n",
              "  }\n",
              "\n",
              "  .colab-df-quickchart:hover {\n",
              "    background-color: var(--hover-bg-color);\n",
              "    box-shadow: 0 1px 2px rgba(60, 64, 67, 0.3), 0 1px 3px 1px rgba(60, 64, 67, 0.15);\n",
              "    fill: var(--button-hover-fill-color);\n",
              "  }\n",
              "\n",
              "  .colab-df-quickchart-complete:disabled,\n",
              "  .colab-df-quickchart-complete:disabled:hover {\n",
              "    background-color: var(--disabled-bg-color);\n",
              "    fill: var(--disabled-fill-color);\n",
              "    box-shadow: none;\n",
              "  }\n",
              "\n",
              "  .colab-df-spinner {\n",
              "    border: 2px solid var(--fill-color);\n",
              "    border-color: transparent;\n",
              "    border-bottom-color: var(--fill-color);\n",
              "    animation:\n",
              "      spin 1s steps(1) infinite;\n",
              "  }\n",
              "\n",
              "  @keyframes spin {\n",
              "    0% {\n",
              "      border-color: transparent;\n",
              "      border-bottom-color: var(--fill-color);\n",
              "      border-left-color: var(--fill-color);\n",
              "    }\n",
              "    20% {\n",
              "      border-color: transparent;\n",
              "      border-left-color: var(--fill-color);\n",
              "      border-top-color: var(--fill-color);\n",
              "    }\n",
              "    30% {\n",
              "      border-color: transparent;\n",
              "      border-left-color: var(--fill-color);\n",
              "      border-top-color: var(--fill-color);\n",
              "      border-right-color: var(--fill-color);\n",
              "    }\n",
              "    40% {\n",
              "      border-color: transparent;\n",
              "      border-right-color: var(--fill-color);\n",
              "      border-top-color: var(--fill-color);\n",
              "    }\n",
              "    60% {\n",
              "      border-color: transparent;\n",
              "      border-right-color: var(--fill-color);\n",
              "    }\n",
              "    80% {\n",
              "      border-color: transparent;\n",
              "      border-right-color: var(--fill-color);\n",
              "      border-bottom-color: var(--fill-color);\n",
              "    }\n",
              "    90% {\n",
              "      border-color: transparent;\n",
              "      border-bottom-color: var(--fill-color);\n",
              "    }\n",
              "  }\n",
              "</style>\n",
              "\n",
              "  <script>\n",
              "    async function quickchart(key) {\n",
              "      const quickchartButtonEl =\n",
              "        document.querySelector('#' + key + ' button');\n",
              "      quickchartButtonEl.disabled = true;  // To prevent multiple clicks.\n",
              "      quickchartButtonEl.classList.add('colab-df-spinner');\n",
              "      try {\n",
              "        const charts = await google.colab.kernel.invokeFunction(\n",
              "            'suggestCharts', [key], {});\n",
              "      } catch (error) {\n",
              "        console.error('Error during call to suggestCharts:', error);\n",
              "      }\n",
              "      quickchartButtonEl.classList.remove('colab-df-spinner');\n",
              "      quickchartButtonEl.classList.add('colab-df-quickchart-complete');\n",
              "    }\n",
              "    (() => {\n",
              "      let quickchartButtonEl =\n",
              "        document.querySelector('#df-28296fc3-e7ed-4077-96a6-e963e6160d37 button');\n",
              "      quickchartButtonEl.style.display =\n",
              "        google.colab.kernel.accessAllowed ? 'block' : 'none';\n",
              "    })();\n",
              "  </script>\n",
              "</div>\n",
              "\n",
              "    </div>\n",
              "  </div>\n"
            ],
            "application/vnd.google.colaboratory.intrinsic+json": {
              "type": "dataframe",
              "variable_name": "df",
              "repr_error": "'str' object has no attribute 'empty'"
            }
          },
          "metadata": {},
          "execution_count": 6
        }
      ]
    },
    {
      "cell_type": "code",
      "source": [
        "df.tail()"
      ],
      "metadata": {
        "colab": {
          "base_uri": "https://localhost:8080/",
          "height": 206
        },
        "id": "h7rVoyLB3O6X",
        "outputId": "e5150ec2-4c59-48b5-ca41-8f8152d7cbff"
      },
      "execution_count": null,
      "outputs": [
        {
          "output_type": "execute_result",
          "data": {
            "text/plain": [
              "            date   meantemp    humidity  wind_speed  meanpressure\n",
              "1457  2016-12-28  17.217391   68.043478    3.547826   1015.565217\n",
              "1458  2016-12-29  15.238095   87.857143    6.000000   1016.904762\n",
              "1459  2016-12-30  14.095238   89.666667    6.266667   1017.904762\n",
              "1460  2016-12-31  15.052632   87.000000    7.325000   1016.100000\n",
              "1461  2017-01-01  10.000000  100.000000    0.000000   1016.000000"
            ],
            "text/html": [
              "\n",
              "  <div id=\"df-a4bde520-8ff7-46dd-ab13-27fcdd65567e\" class=\"colab-df-container\">\n",
              "    <div>\n",
              "<style scoped>\n",
              "    .dataframe tbody tr th:only-of-type {\n",
              "        vertical-align: middle;\n",
              "    }\n",
              "\n",
              "    .dataframe tbody tr th {\n",
              "        vertical-align: top;\n",
              "    }\n",
              "\n",
              "    .dataframe thead th {\n",
              "        text-align: right;\n",
              "    }\n",
              "</style>\n",
              "<table border=\"1\" class=\"dataframe\">\n",
              "  <thead>\n",
              "    <tr style=\"text-align: right;\">\n",
              "      <th></th>\n",
              "      <th>date</th>\n",
              "      <th>meantemp</th>\n",
              "      <th>humidity</th>\n",
              "      <th>wind_speed</th>\n",
              "      <th>meanpressure</th>\n",
              "    </tr>\n",
              "  </thead>\n",
              "  <tbody>\n",
              "    <tr>\n",
              "      <th>1457</th>\n",
              "      <td>2016-12-28</td>\n",
              "      <td>17.217391</td>\n",
              "      <td>68.043478</td>\n",
              "      <td>3.547826</td>\n",
              "      <td>1015.565217</td>\n",
              "    </tr>\n",
              "    <tr>\n",
              "      <th>1458</th>\n",
              "      <td>2016-12-29</td>\n",
              "      <td>15.238095</td>\n",
              "      <td>87.857143</td>\n",
              "      <td>6.000000</td>\n",
              "      <td>1016.904762</td>\n",
              "    </tr>\n",
              "    <tr>\n",
              "      <th>1459</th>\n",
              "      <td>2016-12-30</td>\n",
              "      <td>14.095238</td>\n",
              "      <td>89.666667</td>\n",
              "      <td>6.266667</td>\n",
              "      <td>1017.904762</td>\n",
              "    </tr>\n",
              "    <tr>\n",
              "      <th>1460</th>\n",
              "      <td>2016-12-31</td>\n",
              "      <td>15.052632</td>\n",
              "      <td>87.000000</td>\n",
              "      <td>7.325000</td>\n",
              "      <td>1016.100000</td>\n",
              "    </tr>\n",
              "    <tr>\n",
              "      <th>1461</th>\n",
              "      <td>2017-01-01</td>\n",
              "      <td>10.000000</td>\n",
              "      <td>100.000000</td>\n",
              "      <td>0.000000</td>\n",
              "      <td>1016.000000</td>\n",
              "    </tr>\n",
              "  </tbody>\n",
              "</table>\n",
              "</div>\n",
              "    <div class=\"colab-df-buttons\">\n",
              "\n",
              "  <div class=\"colab-df-container\">\n",
              "    <button class=\"colab-df-convert\" onclick=\"convertToInteractive('df-a4bde520-8ff7-46dd-ab13-27fcdd65567e')\"\n",
              "            title=\"Convert this dataframe to an interactive table.\"\n",
              "            style=\"display:none;\">\n",
              "\n",
              "  <svg xmlns=\"http://www.w3.org/2000/svg\" height=\"24px\" viewBox=\"0 -960 960 960\">\n",
              "    <path d=\"M120-120v-720h720v720H120Zm60-500h600v-160H180v160Zm220 220h160v-160H400v160Zm0 220h160v-160H400v160ZM180-400h160v-160H180v160Zm440 0h160v-160H620v160ZM180-180h160v-160H180v160Zm440 0h160v-160H620v160Z\"/>\n",
              "  </svg>\n",
              "    </button>\n",
              "\n",
              "  <style>\n",
              "    .colab-df-container {\n",
              "      display:flex;\n",
              "      gap: 12px;\n",
              "    }\n",
              "\n",
              "    .colab-df-convert {\n",
              "      background-color: #E8F0FE;\n",
              "      border: none;\n",
              "      border-radius: 50%;\n",
              "      cursor: pointer;\n",
              "      display: none;\n",
              "      fill: #1967D2;\n",
              "      height: 32px;\n",
              "      padding: 0 0 0 0;\n",
              "      width: 32px;\n",
              "    }\n",
              "\n",
              "    .colab-df-convert:hover {\n",
              "      background-color: #E2EBFA;\n",
              "      box-shadow: 0px 1px 2px rgba(60, 64, 67, 0.3), 0px 1px 3px 1px rgba(60, 64, 67, 0.15);\n",
              "      fill: #174EA6;\n",
              "    }\n",
              "\n",
              "    .colab-df-buttons div {\n",
              "      margin-bottom: 4px;\n",
              "    }\n",
              "\n",
              "    [theme=dark] .colab-df-convert {\n",
              "      background-color: #3B4455;\n",
              "      fill: #D2E3FC;\n",
              "    }\n",
              "\n",
              "    [theme=dark] .colab-df-convert:hover {\n",
              "      background-color: #434B5C;\n",
              "      box-shadow: 0px 1px 3px 1px rgba(0, 0, 0, 0.15);\n",
              "      filter: drop-shadow(0px 1px 2px rgba(0, 0, 0, 0.3));\n",
              "      fill: #FFFFFF;\n",
              "    }\n",
              "  </style>\n",
              "\n",
              "    <script>\n",
              "      const buttonEl =\n",
              "        document.querySelector('#df-a4bde520-8ff7-46dd-ab13-27fcdd65567e button.colab-df-convert');\n",
              "      buttonEl.style.display =\n",
              "        google.colab.kernel.accessAllowed ? 'block' : 'none';\n",
              "\n",
              "      async function convertToInteractive(key) {\n",
              "        const element = document.querySelector('#df-a4bde520-8ff7-46dd-ab13-27fcdd65567e');\n",
              "        const dataTable =\n",
              "          await google.colab.kernel.invokeFunction('convertToInteractive',\n",
              "                                                    [key], {});\n",
              "        if (!dataTable) return;\n",
              "\n",
              "        const docLinkHtml = 'Like what you see? Visit the ' +\n",
              "          '<a target=\"_blank\" href=https://colab.research.google.com/notebooks/data_table.ipynb>data table notebook</a>'\n",
              "          + ' to learn more about interactive tables.';\n",
              "        element.innerHTML = '';\n",
              "        dataTable['output_type'] = 'display_data';\n",
              "        await google.colab.output.renderOutput(dataTable, element);\n",
              "        const docLink = document.createElement('div');\n",
              "        docLink.innerHTML = docLinkHtml;\n",
              "        element.appendChild(docLink);\n",
              "      }\n",
              "    </script>\n",
              "  </div>\n",
              "\n",
              "\n",
              "<div id=\"df-b0d60fad-a8a3-4934-be82-bbaf23349cf1\">\n",
              "  <button class=\"colab-df-quickchart\" onclick=\"quickchart('df-b0d60fad-a8a3-4934-be82-bbaf23349cf1')\"\n",
              "            title=\"Suggest charts\"\n",
              "            style=\"display:none;\">\n",
              "\n",
              "<svg xmlns=\"http://www.w3.org/2000/svg\" height=\"24px\"viewBox=\"0 0 24 24\"\n",
              "     width=\"24px\">\n",
              "    <g>\n",
              "        <path d=\"M19 3H5c-1.1 0-2 .9-2 2v14c0 1.1.9 2 2 2h14c1.1 0 2-.9 2-2V5c0-1.1-.9-2-2-2zM9 17H7v-7h2v7zm4 0h-2V7h2v10zm4 0h-2v-4h2v4z\"/>\n",
              "    </g>\n",
              "</svg>\n",
              "  </button>\n",
              "\n",
              "<style>\n",
              "  .colab-df-quickchart {\n",
              "      --bg-color: #E8F0FE;\n",
              "      --fill-color: #1967D2;\n",
              "      --hover-bg-color: #E2EBFA;\n",
              "      --hover-fill-color: #174EA6;\n",
              "      --disabled-fill-color: #AAA;\n",
              "      --disabled-bg-color: #DDD;\n",
              "  }\n",
              "\n",
              "  [theme=dark] .colab-df-quickchart {\n",
              "      --bg-color: #3B4455;\n",
              "      --fill-color: #D2E3FC;\n",
              "      --hover-bg-color: #434B5C;\n",
              "      --hover-fill-color: #FFFFFF;\n",
              "      --disabled-bg-color: #3B4455;\n",
              "      --disabled-fill-color: #666;\n",
              "  }\n",
              "\n",
              "  .colab-df-quickchart {\n",
              "    background-color: var(--bg-color);\n",
              "    border: none;\n",
              "    border-radius: 50%;\n",
              "    cursor: pointer;\n",
              "    display: none;\n",
              "    fill: var(--fill-color);\n",
              "    height: 32px;\n",
              "    padding: 0;\n",
              "    width: 32px;\n",
              "  }\n",
              "\n",
              "  .colab-df-quickchart:hover {\n",
              "    background-color: var(--hover-bg-color);\n",
              "    box-shadow: 0 1px 2px rgba(60, 64, 67, 0.3), 0 1px 3px 1px rgba(60, 64, 67, 0.15);\n",
              "    fill: var(--button-hover-fill-color);\n",
              "  }\n",
              "\n",
              "  .colab-df-quickchart-complete:disabled,\n",
              "  .colab-df-quickchart-complete:disabled:hover {\n",
              "    background-color: var(--disabled-bg-color);\n",
              "    fill: var(--disabled-fill-color);\n",
              "    box-shadow: none;\n",
              "  }\n",
              "\n",
              "  .colab-df-spinner {\n",
              "    border: 2px solid var(--fill-color);\n",
              "    border-color: transparent;\n",
              "    border-bottom-color: var(--fill-color);\n",
              "    animation:\n",
              "      spin 1s steps(1) infinite;\n",
              "  }\n",
              "\n",
              "  @keyframes spin {\n",
              "    0% {\n",
              "      border-color: transparent;\n",
              "      border-bottom-color: var(--fill-color);\n",
              "      border-left-color: var(--fill-color);\n",
              "    }\n",
              "    20% {\n",
              "      border-color: transparent;\n",
              "      border-left-color: var(--fill-color);\n",
              "      border-top-color: var(--fill-color);\n",
              "    }\n",
              "    30% {\n",
              "      border-color: transparent;\n",
              "      border-left-color: var(--fill-color);\n",
              "      border-top-color: var(--fill-color);\n",
              "      border-right-color: var(--fill-color);\n",
              "    }\n",
              "    40% {\n",
              "      border-color: transparent;\n",
              "      border-right-color: var(--fill-color);\n",
              "      border-top-color: var(--fill-color);\n",
              "    }\n",
              "    60% {\n",
              "      border-color: transparent;\n",
              "      border-right-color: var(--fill-color);\n",
              "    }\n",
              "    80% {\n",
              "      border-color: transparent;\n",
              "      border-right-color: var(--fill-color);\n",
              "      border-bottom-color: var(--fill-color);\n",
              "    }\n",
              "    90% {\n",
              "      border-color: transparent;\n",
              "      border-bottom-color: var(--fill-color);\n",
              "    }\n",
              "  }\n",
              "</style>\n",
              "\n",
              "  <script>\n",
              "    async function quickchart(key) {\n",
              "      const quickchartButtonEl =\n",
              "        document.querySelector('#' + key + ' button');\n",
              "      quickchartButtonEl.disabled = true;  // To prevent multiple clicks.\n",
              "      quickchartButtonEl.classList.add('colab-df-spinner');\n",
              "      try {\n",
              "        const charts = await google.colab.kernel.invokeFunction(\n",
              "            'suggestCharts', [key], {});\n",
              "      } catch (error) {\n",
              "        console.error('Error during call to suggestCharts:', error);\n",
              "      }\n",
              "      quickchartButtonEl.classList.remove('colab-df-spinner');\n",
              "      quickchartButtonEl.classList.add('colab-df-quickchart-complete');\n",
              "    }\n",
              "    (() => {\n",
              "      let quickchartButtonEl =\n",
              "        document.querySelector('#df-b0d60fad-a8a3-4934-be82-bbaf23349cf1 button');\n",
              "      quickchartButtonEl.style.display =\n",
              "        google.colab.kernel.accessAllowed ? 'block' : 'none';\n",
              "    })();\n",
              "  </script>\n",
              "</div>\n",
              "\n",
              "    </div>\n",
              "  </div>\n"
            ],
            "application/vnd.google.colaboratory.intrinsic+json": {
              "type": "dataframe",
              "repr_error": "'str' object has no attribute 'empty'"
            }
          },
          "metadata": {},
          "execution_count": 7
        }
      ]
    },
    {
      "cell_type": "code",
      "source": [
        "# Convert \"date\" column to datetime format\n",
        "df['date'] = pd.to_datetime(df['date'])\n",
        "\n",
        "# Set 'date' column as the index of DataFrame\n",
        "df.set_index('date', inplace=True)"
      ],
      "metadata": {
        "id": "NSqpZuMibcey"
      },
      "execution_count": null,
      "outputs": []
    },
    {
      "cell_type": "code",
      "source": [
        "print(\"Standard Deviation of temp: \", df['meantemp'].std())"
      ],
      "metadata": {
        "colab": {
          "base_uri": "https://localhost:8080/"
        },
        "id": "fvCLB8Ydcm5w",
        "outputId": "5c1d6509-a9e1-4f94-ac98-3158f3d1abae"
      },
      "execution_count": null,
      "outputs": [
        {
          "output_type": "stream",
          "name": "stdout",
          "text": [
            "Standard Deviation of temp:  7.348102725432476\n"
          ]
        }
      ]
    },
    {
      "cell_type": "code",
      "source": [
        "import matplotlib.pyplot as plt\n",
        "\n",
        "df['meantemp'].plot(grid=True, marker=\".\")\n",
        "xlabel = \"Date\"\n",
        "ylabel = \"Mean temperature in Celcius\"\n",
        "plt.show()"
      ],
      "metadata": {
        "colab": {
          "base_uri": "https://localhost:8080/",
          "height": 456
        },
        "id": "h79kANhE6YK_",
        "outputId": "d540aedc-f8ee-4ddc-c45f-a0dea4cc35f0"
      },
      "execution_count": null,
      "outputs": [
        {
          "output_type": "display_data",
          "data": {
            "text/plain": [
              "<Figure size 640x480 with 1 Axes>"
            ],
            "image/png": "[encoded data removed]"
          },
          "metadata": {}
        }
      ]
    },
    {
      "cell_type": "markdown",
      "source": [
        "# Naive Forecasting"
      ],
      "metadata": {
        "id": "W7MCQEUBcutL"
      }
    },
    {
      "cell_type": "code",
      "source": [
        "# Predict next week by looking at last week\n",
        "last_observation = df['meantemp'].iloc[-1]\n",
        "\n",
        "naive_forecast = [last_observation] * len(df)\n",
        "\n",
        "plt.plot(df.index, naive_forecast, label='Naive Forecast', linestyle='--');"
      ],
      "metadata": {
        "id": "I5JzDAKQctQe",
        "colab": {
          "base_uri": "https://localhost:8080/",
          "height": 430
        },
        "outputId": "d2300258-dbd3-4a68-a36c-fe3182c04e05"
      },
      "execution_count": null,
      "outputs": [
        {
          "output_type": "display_data",
          "data": {
            "text/plain": [
              "<Figure size 640x480 with 1 Axes>"
            ],
            "image/png": "[encoded data removed]"
          },
          "metadata": {}
        }
      ]
    },
    {
      "cell_type": "code",
      "source": [
        "# Plotting mean temp data\n",
        "df['meantemp'].plot(legend=True)\n",
        "\n",
        "# Plotting the mean temp data shifted by a year\n",
        "diff_7 = df['meantemp'].shift(365)\n",
        "diff_7.plot(legend=True, label='Shifted meantemp')\n",
        "plt.show()"
      ],
      "metadata": {
        "colab": {
          "base_uri": "https://localhost:8080/",
          "height": 456
        },
        "id": "7ZVbXRh1KY8I",
        "outputId": "e745b3ed-e91e-4aec-fc93-835cb0b74626"
      },
      "execution_count": null,
      "outputs": [
        {
          "output_type": "display_data",
          "data": {
            "text/plain": [
              "<Figure size 640x480 with 1 Axes>"
            ],
            "image/png": "[encoded data removed]"
          },
          "metadata": {}
        }
      ]
    },
    {
      "cell_type": "code",
      "source": [
        "# MAE\n",
        "naive_diff_temp = diff_7 - df['meantemp']\n",
        "\n",
        "print(naive_diff_temp.abs().mean())"
      ],
      "metadata": {
        "colab": {
          "base_uri": "https://localhost:8080/"
        },
        "id": "xo2uH9tmMwJy",
        "outputId": "b9d11638-5ab8-45c0-d58f-cd0eb2fb9b3a"
      },
      "execution_count": null,
      "outputs": [
        {
          "output_type": "stream",
          "name": "stdout",
          "text": [
            "2.556797180195331\n"
          ]
        }
      ]
    },
    {
      "cell_type": "markdown",
      "source": [
        "# ARIMA"
      ],
      "metadata": {
        "id": "8gx4qs-c8ipt"
      }
    },
    {
      "cell_type": "code",
      "source": [
        "# Install statsmodels library\n",
        "if \"google.colab\" in sys.modules:\n",
        "  %pip install -q -U statsmodels"
      ],
      "metadata": {
        "id": "yzGuPLzGN70r"
      },
      "execution_count": null,
      "outputs": []
    },
    {
      "cell_type": "code",
      "source": [
        "# Importing ARIMA\n",
        "from statsmodels.tsa.arima.model import ARIMA\n",
        "\n",
        "# Doing daily predictions\n",
        "origin, today = \"2013-01-01\", \"2017-01-01\"\n",
        "meantemp_series = df.loc[origin:today][\"meantemp\"].asfreq(\"D\")\n",
        "\n",
        "model = ARIMA(meantemp_series)\n",
        "model = model.fit()\n",
        "y_pred = model.forecast()\n",
        "\n",
        "print(y_pred)"
      ],
      "metadata": {
        "colab": {
          "base_uri": "https://localhost:8080/"
        },
        "id": "isq5MSU5OENr",
        "outputId": "92a6b6ed-c07c-4439-a417-ba62beae4e7f"
      },
      "execution_count": null,
      "outputs": [
        {
          "output_type": "stream",
          "name": "stdout",
          "text": [
            "2017-01-02    25.495516\n",
            "Freq: D, dtype: float64\n"
          ]
        }
      ]
    },
    {
      "cell_type": "code",
      "source": [
        "# Using Jan. 1, 2017 to predict Jan. 2, 2017\n",
        "y_pred[0]"
      ],
      "metadata": {
        "colab": {
          "base_uri": "https://localhost:8080/"
        },
        "id": "w5ZBOx3OPKCr",
        "outputId": "5dca12e0-b97b-4339-c6cb-9ea60ba4a88b"
      },
      "execution_count": null,
      "outputs": [
        {
          "output_type": "execute_result",
          "data": {
            "text/plain": [
              "25.495516234186145"
            ]
          },
          "metadata": {},
          "execution_count": 16
        }
      ]
    },
    {
      "cell_type": "code",
      "source": [
        "y_pred = model.forecast(steps=2) # Predicting 2 days in advance\n",
        "\n",
        "y_pred[1]"
      ],
      "metadata": {
        "colab": {
          "base_uri": "https://localhost:8080/"
        },
        "id": "ok9DJZO7PX3L",
        "outputId": "40a21dc3-ca3f-4438-c472-d1e82db0d964"
      },
      "execution_count": null,
      "outputs": [
        {
          "output_type": "execute_result",
          "data": {
            "text/plain": [
              "25.495516234186145"
            ]
          },
          "metadata": {},
          "execution_count": 17
        }
      ]
    },
    {
      "cell_type": "code",
      "source": [
        "plt.plot(y_pred);"
      ],
      "metadata": {
        "colab": {
          "base_uri": "https://localhost:8080/",
          "height": 430
        },
        "id": "tcqA_QWyPwhS",
        "outputId": "bede9383-f7d7-4f6a-9598-86fbed151dec"
      },
      "execution_count": null,
      "outputs": [
        {
          "output_type": "display_data",
          "data": {
            "text/plain": [
              "<Figure size 640x480 with 1 Axes>"
            ],
            "image/png": "[encoded data removed]"
          },
          "metadata": {}
        }
      ]
    },
    {
      "cell_type": "markdown",
      "source": [
        "# Simple RNN"
      ],
      "metadata": {
        "id": "3oaxzN4UdvY2"
      }
    },
    {
      "cell_type": "code",
      "source": [
        "def to_windows(dataset, length):\n",
        "  dataset = dataset.window(length, shift=1, drop_remainder=True)\n",
        "  return dataset.flat_map(lambda window_ds: window_ds.batch(length))"
      ],
      "metadata": {
        "id": "-gONv-rGGmRE"
      },
      "execution_count": null,
      "outputs": []
    },
    {
      "cell_type": "markdown",
      "source": [
        "Splitting the data into training, validation, and testing data"
      ],
      "metadata": {
        "id": "d6h1m5mzHC_s"
      }
    },
    {
      "cell_type": "code",
      "source": [
        "temp_train = df['meantemp']['2013-01-01' : '2015-01-01']\n",
        "\n",
        "temp_validate = df['meantemp']['2015-01-02' : '2017-01-01']\n",
        "\n",
        "temp_test = pd.read_csv(\"/content/drive/MyDrive/CSC402/Chapter15/DailyDelhiClimateTest.csv\")\n"
      ],
      "metadata": {
        "id": "l_0rioHMHJW2"
      },
      "execution_count": null,
      "outputs": []
    },
    {
      "cell_type": "code",
      "source": [
        "# Convert \"date\" column to datetime format\n",
        "temp_test['date'] = pd.to_datetime(temp_test['date'])\n",
        "\n",
        "# Set 'date' column as the index of DataFrame\n",
        "temp_test.set_index('date', inplace=True)"
      ],
      "metadata": {
        "id": "Q2_j1xmoIieL"
      },
      "execution_count": null,
      "outputs": []
    },
    {
      "cell_type": "code",
      "source": [
        "temp_test = temp_test['meantemp']"
      ],
      "metadata": {
        "id": "cVrMQ3ghI3bP"
      },
      "execution_count": null,
      "outputs": []
    },
    {
      "cell_type": "code",
      "source": [
        "temp_train.head()"
      ],
      "metadata": {
        "id": "qWCfo1fUJubk",
        "colab": {
          "base_uri": "https://localhost:8080/"
        },
        "outputId": "2c91ef53-747a-44c5-b5f9-e44ae9f6f976"
      },
      "execution_count": null,
      "outputs": [
        {
          "output_type": "execute_result",
          "data": {
            "text/plain": [
              "date\n",
              "2013-01-01    10.000000\n",
              "2013-01-02     7.400000\n",
              "2013-01-03     7.166667\n",
              "2013-01-04     8.666667\n",
              "2013-01-05     6.000000\n",
              "Name: meantemp, dtype: float64"
            ]
          },
          "metadata": {},
          "execution_count": 23
        }
      ]
    },
    {
      "cell_type": "code",
      "source": [
        "temp_validate.head()"
      ],
      "metadata": {
        "id": "aoBy4CVpJAzi",
        "colab": {
          "base_uri": "https://localhost:8080/"
        },
        "outputId": "a473c18e-d1d8-471c-a5d1-74555a952f23"
      },
      "execution_count": null,
      "outputs": [
        {
          "output_type": "execute_result",
          "data": {
            "text/plain": [
              "date\n",
              "2015-01-02    14.875\n",
              "2015-01-03    15.125\n",
              "2015-01-04    14.125\n",
              "2015-01-05    14.000\n",
              "2015-01-06    12.000\n",
              "Name: meantemp, dtype: float64"
            ]
          },
          "metadata": {},
          "execution_count": 24
        }
      ]
    },
    {
      "cell_type": "code",
      "source": [
        "temp_test.head()"
      ],
      "metadata": {
        "id": "N6MuCuQ1JC0b",
        "colab": {
          "base_uri": "https://localhost:8080/"
        },
        "outputId": "6635a639-ff0b-4324-959f-7fd5846da139"
      },
      "execution_count": null,
      "outputs": [
        {
          "output_type": "execute_result",
          "data": {
            "text/plain": [
              "date\n",
              "2017-01-01    15.913043\n",
              "2017-01-02    18.500000\n",
              "2017-01-03    17.111111\n",
              "2017-01-04    18.700000\n",
              "2017-01-05    18.388889\n",
              "Name: meantemp, dtype: float64"
            ]
          },
          "metadata": {},
          "execution_count": 25
        }
      ]
    },
    {
      "cell_type": "code",
      "source": [
        "seq_length = 56 # 56 time stamp\n",
        "\n",
        "# Training dataset\n",
        "train_ds = tf.keras.utils.timeseries_dataset_from_array(\n",
        "    temp_train.to_numpy(), targets=temp_train[seq_length:],\n",
        "    sequence_length=seq_length, batch_size=32, shuffle=True)\n",
        "\n",
        "# Validation dataset\n",
        "valid_ds = tf.keras.utils.timeseries_dataset_from_array(\n",
        "    temp_validate.to_numpy(), targets=temp_validate[seq_length:],\n",
        "    sequence_length=seq_length, batch_size=32)"
      ],
      "metadata": {
        "id": "WHX-Td2zKBwW"
      },
      "execution_count": null,
      "outputs": []
    },
    {
      "cell_type": "code",
      "source": [
        "train_ds"
      ],
      "metadata": {
        "id": "c9YcGD0IK20N",
        "colab": {
          "base_uri": "https://localhost:8080/"
        },
        "outputId": "8b872ee4-4b52-4c21-8792-e1940fa4679e"
      },
      "execution_count": null,
      "outputs": [
        {
          "output_type": "execute_result",
          "data": {
            "text/plain": [
              "<_BatchDataset element_spec=(TensorSpec(shape=(None, None), dtype=tf.float64, name=None), TensorSpec(shape=(None,), dtype=tf.float64, name=None))>"
            ]
          },
          "metadata": {},
          "execution_count": 27
        }
      ]
    },
    {
      "cell_type": "code",
      "source": [
        "len(train_ds)"
      ],
      "metadata": {
        "id": "udrw6ByNNRXo",
        "colab": {
          "base_uri": "https://localhost:8080/"
        },
        "outputId": "824b585e-c1a7-43f2-fa87-bcbdf1e800c1"
      },
      "execution_count": null,
      "outputs": [
        {
          "output_type": "execute_result",
          "data": {
            "text/plain": [
              "22"
            ]
          },
          "metadata": {},
          "execution_count": 28
        }
      ]
    },
    {
      "cell_type": "code",
      "source": [
        "valid_ds"
      ],
      "metadata": {
        "id": "lSKsswZQMl2r",
        "colab": {
          "base_uri": "https://localhost:8080/"
        },
        "outputId": "f9cd02df-d692-48bc-9a9c-033b7f49627a"
      },
      "execution_count": null,
      "outputs": [
        {
          "output_type": "execute_result",
          "data": {
            "text/plain": [
              "<_BatchDataset element_spec=(TensorSpec(shape=(None, None), dtype=tf.float64, name=None), TensorSpec(shape=(None,), dtype=tf.float64, name=None))>"
            ]
          },
          "metadata": {},
          "execution_count": 29
        }
      ]
    },
    {
      "cell_type": "code",
      "source": [
        "# Use .Dense to make predictions better - more neurons = better prediction\n",
        "univar_model = tf.keras.Sequential([\n",
        "    tf.keras.layers.SimpleRNN(32, input_shape=[None, 1]),\n",
        "    tf.keras.layers.Dense(1)\n",
        "])\n",
        "# Predicting 1 element"
      ],
      "metadata": {
        "id": "_Cg7Jb4HLQyF"
      },
      "execution_count": null,
      "outputs": []
    },
    {
      "cell_type": "code",
      "source": [
        "def fit_and_evaluate(model, train_set, valid_set, learning_rate, epochs=500):\n",
        "    early_stopping_cb = tf.keras.callbacks.EarlyStopping(\n",
        "        monitor=\"val_mae\", patience=50, restore_best_weights=True)\n",
        "    opt = tf.keras.optimizers.SGD(learning_rate=learning_rate, momentum=0.9)\n",
        "    model.compile(loss=tf.keras.losses.Huber(), optimizer=opt, metrics=[\"mae\"])\n",
        "    history = model.fit(train_set, validation_data=valid_set, epochs=epochs,\n",
        "                        callbacks=[early_stopping_cb])\n",
        "    valid_loss, valid_mae = model.evaluate(valid_set)\n",
        "    return valid_mae * 1e6"
      ],
      "metadata": {
        "id": "8p6bF3aLLiiC"
      },
      "execution_count": null,
      "outputs": []
    },
    {
      "cell_type": "code",
      "source": [
        "# Compiles, fits, evaulates model\n",
        "fit_and_evaluate(univar_model, train_ds, valid_ds, learning_rate=0.05)"
      ],
      "metadata": {
        "id": "VKdWDa1uMQF_",
        "colab": {
          "base_uri": "https://localhost:8080/"
        },
        "outputId": "b042ef5b-3e04-4322-f208-0b469fb278bd"
      },
      "execution_count": null,
      "outputs": [
        {
          "output_type": "stream",
          "name": "stdout",
          "text": [
            "Epoch 1/500\n",
            "22/22 [==============================] - 5s 119ms/step - loss: 9.8806 - mae: 10.3674 - val_loss: 5.4627 - val_mae: 5.9304\n",
            "Epoch 2/500\n",
            "22/22 [==============================] - 1s 38ms/step - loss: 5.9043 - mae: 6.3871 - val_loss: 5.2164 - val_mae: 5.7071\n",
            "Epoch 3/500\n",
            "22/22 [==============================] - 1s 38ms/step - loss: 5.6505 - mae: 6.1344 - val_loss: 4.9886 - val_mae: 5.4652\n",
            "Epoch 4/500\n",
            "22/22 [==============================] - 1s 42ms/step - loss: 5.6328 - mae: 6.1148 - val_loss: 5.5267 - val_mae: 6.0170\n",
            "Epoch 5/500\n",
            "22/22 [==============================] - 1s 35ms/step - loss: 5.6427 - mae: 6.1298 - val_loss: 5.2838 - val_mae: 5.7750\n",
            "Epoch 6/500\n",
            "22/22 [==============================] - 1s 47ms/step - loss: 5.4000 - mae: 5.8792 - val_loss: 4.9211 - val_mae: 5.3995\n",
            "Epoch 7/500\n",
            "22/22 [==============================] - 1s 58ms/step - loss: 5.4400 - mae: 5.9215 - val_loss: 4.9461 - val_mae: 5.4271\n",
            "Epoch 8/500\n",
            "22/22 [==============================] - 2s 72ms/step - loss: 5.3904 - mae: 5.8751 - val_loss: 5.1656 - val_mae: 5.6559\n",
            "Epoch 9/500\n",
            "22/22 [==============================] - 2s 71ms/step - loss: 5.5335 - mae: 6.0206 - val_loss: 5.1642 - val_mae: 5.6542\n",
            "Epoch 10/500\n",
            "22/22 [==============================] - 2s 67ms/step - loss: 5.5976 - mae: 6.0839 - val_loss: 5.0485 - val_mae: 5.5240\n",
            "Epoch 11/500\n",
            "22/22 [==============================] - 2s 62ms/step - loss: 5.7670 - mae: 6.2538 - val_loss: 5.5446 - val_mae: 6.0344\n",
            "Epoch 12/500\n",
            "22/22 [==============================] - 1s 42ms/step - loss: 5.7386 - mae: 6.2233 - val_loss: 4.9108 - val_mae: 5.3873\n",
            "Epoch 13/500\n",
            "22/22 [==============================] - 1s 40ms/step - loss: 5.3907 - mae: 5.8719 - val_loss: 4.9104 - val_mae: 5.3870\n",
            "Epoch 14/500\n",
            "22/22 [==============================] - 1s 53ms/step - loss: 5.6647 - mae: 6.1431 - val_loss: 4.9033 - val_mae: 5.3821\n",
            "Epoch 15/500\n",
            "22/22 [==============================] - 1s 34ms/step - loss: 5.3777 - mae: 5.8612 - val_loss: 4.9679 - val_mae: 5.4528\n",
            "Epoch 16/500\n",
            "22/22 [==============================] - 1s 24ms/step - loss: 5.3794 - mae: 5.8604 - val_loss: 4.9029 - val_mae: 5.3818\n",
            "Epoch 17/500\n",
            "22/22 [==============================] - 1s 28ms/step - loss: 5.4552 - mae: 5.9360 - val_loss: 5.0422 - val_mae: 5.5309\n",
            "Epoch 18/500\n",
            "22/22 [==============================] - 1s 39ms/step - loss: 5.4710 - mae: 5.9523 - val_loss: 5.8389 - val_mae: 6.3279\n",
            "Epoch 19/500\n",
            "22/22 [==============================] - 1s 38ms/step - loss: 5.5703 - mae: 6.0494 - val_loss: 5.3957 - val_mae: 5.8622\n",
            "Epoch 20/500\n",
            "22/22 [==============================] - 1s 40ms/step - loss: 5.5398 - mae: 6.0199 - val_loss: 5.0562 - val_mae: 5.5452\n",
            "Epoch 21/500\n",
            "22/22 [==============================] - 1s 23ms/step - loss: 5.5431 - mae: 6.0303 - val_loss: 5.2312 - val_mae: 5.7219\n",
            "Epoch 22/500\n",
            "22/22 [==============================] - 1s 23ms/step - loss: 5.4210 - mae: 5.9050 - val_loss: 4.9951 - val_mae: 5.4824\n",
            "Epoch 23/500\n",
            "22/22 [==============================] - 1s 29ms/step - loss: 5.3787 - mae: 5.8672 - val_loss: 4.9105 - val_mae: 5.3871\n",
            "Epoch 24/500\n",
            "22/22 [==============================] - 1s 23ms/step - loss: 5.4244 - mae: 5.9085 - val_loss: 4.9280 - val_mae: 5.4055\n",
            "Epoch 25/500\n",
            "22/22 [==============================] - 1s 23ms/step - loss: 5.3523 - mae: 5.8371 - val_loss: 5.1286 - val_mae: 5.6190\n",
            "Epoch 26/500\n",
            "22/22 [==============================] - 1s 29ms/step - loss: 5.4054 - mae: 5.8914 - val_loss: 4.9115 - val_mae: 5.3879\n",
            "Epoch 27/500\n",
            "22/22 [==============================] - 1s 23ms/step - loss: 5.5607 - mae: 6.0476 - val_loss: 5.2048 - val_mae: 5.6953\n",
            "Epoch 28/500\n",
            "22/22 [==============================] - 1s 21ms/step - loss: 5.3871 - mae: 5.8669 - val_loss: 4.9786 - val_mae: 5.4647\n",
            "Epoch 29/500\n",
            "22/22 [==============================] - 1s 23ms/step - loss: 5.3552 - mae: 5.8362 - val_loss: 5.1521 - val_mae: 5.6190\n",
            "Epoch 30/500\n",
            "22/22 [==============================] - 1s 21ms/step - loss: 5.8263 - mae: 6.3019 - val_loss: 6.4833 - val_mae: 6.9723\n",
            "Epoch 31/500\n",
            "22/22 [==============================] - 1s 22ms/step - loss: 6.3194 - mae: 6.8058 - val_loss: 5.1186 - val_mae: 5.6088\n",
            "Epoch 32/500\n",
            "22/22 [==============================] - 1s 24ms/step - loss: 5.4529 - mae: 5.9350 - val_loss: 4.9245 - val_mae: 5.4019\n",
            "Epoch 33/500\n",
            "22/22 [==============================] - 1s 23ms/step - loss: 5.5963 - mae: 6.0821 - val_loss: 5.1697 - val_mae: 5.6600\n",
            "Epoch 34/500\n",
            "22/22 [==============================] - 1s 30ms/step - loss: 5.4251 - mae: 5.9056 - val_loss: 5.0563 - val_mae: 5.5454\n",
            "Epoch 35/500\n",
            "22/22 [==============================] - 1s 34ms/step - loss: 5.4588 - mae: 5.9381 - val_loss: 4.9897 - val_mae: 5.4766\n",
            "Epoch 36/500\n",
            "22/22 [==============================] - 1s 40ms/step - loss: 5.7831 - mae: 6.2653 - val_loss: 5.2862 - val_mae: 5.7775\n",
            "Epoch 37/500\n",
            "22/22 [==============================] - 1s 38ms/step - loss: 5.4165 - mae: 5.9010 - val_loss: 4.9040 - val_mae: 5.3827\n",
            "Epoch 38/500\n",
            "22/22 [==============================] - 1s 22ms/step - loss: 5.6088 - mae: 6.0865 - val_loss: 5.4198 - val_mae: 5.9111\n",
            "Epoch 39/500\n",
            "22/22 [==============================] - 1s 30ms/step - loss: 5.5293 - mae: 6.0165 - val_loss: 4.9113 - val_mae: 5.3877\n",
            "Epoch 40/500\n",
            "22/22 [==============================] - 1s 22ms/step - loss: 5.3671 - mae: 5.8514 - val_loss: 5.6782 - val_mae: 6.1655\n",
            "Epoch 41/500\n",
            "22/22 [==============================] - 1s 30ms/step - loss: 5.4487 - mae: 5.9292 - val_loss: 4.9803 - val_mae: 5.4666\n",
            "Epoch 42/500\n",
            "22/22 [==============================] - 1s 22ms/step - loss: 5.3965 - mae: 5.8781 - val_loss: 4.9696 - val_mae: 5.4547\n",
            "Epoch 43/500\n",
            "22/22 [==============================] - 1s 29ms/step - loss: 5.4513 - mae: 5.9371 - val_loss: 4.9158 - val_mae: 5.3920\n",
            "Epoch 44/500\n",
            "22/22 [==============================] - 1s 22ms/step - loss: 5.3931 - mae: 5.8785 - val_loss: 4.9162 - val_mae: 5.3924\n",
            "Epoch 45/500\n",
            "22/22 [==============================] - 1s 29ms/step - loss: 5.4351 - mae: 5.9191 - val_loss: 4.9294 - val_mae: 5.4074\n",
            "Epoch 46/500\n",
            "22/22 [==============================] - 1s 29ms/step - loss: 5.4221 - mae: 5.9045 - val_loss: 6.1482 - val_mae: 6.6367\n",
            "Epoch 47/500\n",
            "22/22 [==============================] - 1s 23ms/step - loss: 5.6156 - mae: 6.0974 - val_loss: 5.5511 - val_mae: 6.0408\n",
            "Epoch 48/500\n",
            "22/22 [==============================] - 1s 22ms/step - loss: 5.5424 - mae: 6.0232 - val_loss: 6.7289 - val_mae: 7.2181\n",
            "Epoch 49/500\n",
            "22/22 [==============================] - 1s 23ms/step - loss: 5.9860 - mae: 6.4701 - val_loss: 5.3756 - val_mae: 5.8674\n",
            "Epoch 50/500\n",
            "22/22 [==============================] - 1s 31ms/step - loss: 5.3946 - mae: 5.8796 - val_loss: 4.9029 - val_mae: 5.3818\n",
            "Epoch 51/500\n",
            "22/22 [==============================] - 1s 39ms/step - loss: 5.3820 - mae: 5.8614 - val_loss: 4.9088 - val_mae: 5.3857\n",
            "Epoch 52/500\n",
            "22/22 [==============================] - 1s 34ms/step - loss: 5.3834 - mae: 5.8678 - val_loss: 5.2239 - val_mae: 5.7145\n",
            "Epoch 53/500\n",
            "22/22 [==============================] - 1s 39ms/step - loss: 5.3806 - mae: 5.8665 - val_loss: 4.9180 - val_mae: 5.3967\n",
            "Epoch 54/500\n",
            "22/22 [==============================] - 1s 30ms/step - loss: 5.4314 - mae: 5.9153 - val_loss: 4.9383 - val_mae: 5.4156\n",
            "Epoch 55/500\n",
            "22/22 [==============================] - 1s 24ms/step - loss: 5.5266 - mae: 6.0092 - val_loss: 5.3358 - val_mae: 5.8276\n",
            "Epoch 56/500\n",
            "22/22 [==============================] - 1s 30ms/step - loss: 5.3909 - mae: 5.8754 - val_loss: 4.9111 - val_mae: 5.3901\n",
            "Epoch 57/500\n",
            "22/22 [==============================] - 1s 23ms/step - loss: 5.4876 - mae: 5.9685 - val_loss: 5.2110 - val_mae: 5.7015\n",
            "Epoch 58/500\n",
            "22/22 [==============================] - 1s 22ms/step - loss: 5.6002 - mae: 6.0859 - val_loss: 4.9029 - val_mae: 5.3818\n",
            "Epoch 59/500\n",
            "22/22 [==============================] - 1s 23ms/step - loss: 5.3800 - mae: 5.8670 - val_loss: 4.9138 - val_mae: 5.3896\n",
            "Epoch 60/500\n",
            "22/22 [==============================] - 1s 29ms/step - loss: 5.4275 - mae: 5.9128 - val_loss: 4.9197 - val_mae: 5.3963\n",
            "Epoch 61/500\n",
            "22/22 [==============================] - 1s 23ms/step - loss: 5.5069 - mae: 5.9861 - val_loss: 5.0226 - val_mae: 5.5110\n",
            "Epoch 62/500\n",
            "22/22 [==============================] - 1s 29ms/step - loss: 5.6885 - mae: 6.1741 - val_loss: 5.3111 - val_mae: 5.8028\n",
            "Epoch 63/500\n",
            "22/22 [==============================] - 1s 23ms/step - loss: 5.3683 - mae: 5.8502 - val_loss: 4.9039 - val_mae: 5.3829\n",
            "Epoch 64/500\n",
            "22/22 [==============================] - 1s 23ms/step - loss: 5.4030 - mae: 5.8837 - val_loss: 4.9233 - val_mae: 5.4005\n",
            "Epoch 65/500\n",
            "22/22 [==============================] - 1s 21ms/step - loss: 5.3519 - mae: 5.8357 - val_loss: 4.9712 - val_mae: 5.4565\n",
            "Epoch 66/500\n",
            "22/22 [==============================] - 1s 38ms/step - loss: 5.7381 - mae: 6.2250 - val_loss: 5.5176 - val_mae: 6.0082\n",
            "Epoch 67/500\n",
            "22/22 [==============================] - 1s 36ms/step - loss: 5.4201 - mae: 5.9044 - val_loss: 5.7089 - val_mae: 6.1968\n",
            "Epoch 68/500\n",
            "22/22 [==============================] - 1s 34ms/step - loss: 5.4124 - mae: 5.8977 - val_loss: 4.9053 - val_mae: 5.3834\n",
            "Epoch 69/500\n",
            "22/22 [==============================] - 1s 40ms/step - loss: 5.4461 - mae: 5.9278 - val_loss: 5.3312 - val_mae: 5.8229\n",
            "Epoch 70/500\n",
            "22/22 [==============================] - 1s 22ms/step - loss: 5.3733 - mae: 5.8541 - val_loss: 5.5719 - val_mae: 6.0609\n",
            "Epoch 71/500\n",
            "22/22 [==============================] - 1s 21ms/step - loss: 5.4860 - mae: 5.9718 - val_loss: 4.9032 - val_mae: 5.3821\n",
            "Epoch 72/500\n",
            "22/22 [==============================] - 1s 29ms/step - loss: 5.4786 - mae: 5.9570 - val_loss: 5.1549 - val_mae: 5.6453\n",
            "Epoch 73/500\n",
            "22/22 [==============================] - 1s 23ms/step - loss: 5.4300 - mae: 5.9173 - val_loss: 4.9303 - val_mae: 5.4076\n",
            "Epoch 74/500\n",
            "22/22 [==============================] - 1s 22ms/step - loss: 5.6458 - mae: 6.1298 - val_loss: 5.5234 - val_mae: 6.0138\n",
            "Epoch 75/500\n",
            "22/22 [==============================] - 1s 22ms/step - loss: 5.4888 - mae: 5.9720 - val_loss: 4.9407 - val_mae: 5.4182\n",
            "Epoch 76/500\n",
            "22/22 [==============================] - 1s 29ms/step - loss: 5.5187 - mae: 6.0004 - val_loss: 4.9815 - val_mae: 5.4678\n",
            "Epoch 77/500\n",
            "22/22 [==============================] - 1s 23ms/step - loss: 5.4341 - mae: 5.9174 - val_loss: 5.1510 - val_mae: 5.6178\n",
            "Epoch 78/500\n",
            "22/22 [==============================] - 1s 30ms/step - loss: 5.4471 - mae: 5.9258 - val_loss: 5.0190 - val_mae: 5.5073\n",
            "Epoch 79/500\n",
            "22/22 [==============================] - 1s 22ms/step - loss: 5.4548 - mae: 5.9384 - val_loss: 4.9520 - val_mae: 5.4343\n",
            "Epoch 80/500\n",
            "22/22 [==============================] - 1s 23ms/step - loss: 5.5956 - mae: 6.0752 - val_loss: 5.0985 - val_mae: 5.5883\n",
            "Epoch 81/500\n",
            "22/22 [==============================] - 1s 31ms/step - loss: 5.4924 - mae: 5.9798 - val_loss: 4.9326 - val_mae: 5.4112\n",
            "Epoch 82/500\n",
            "22/22 [==============================] - 1s 31ms/step - loss: 5.4231 - mae: 5.9047 - val_loss: 5.1029 - val_mae: 5.5928\n",
            "Epoch 83/500\n",
            "22/22 [==============================] - 1s 24ms/step - loss: 5.4085 - mae: 5.8954 - val_loss: 5.3627 - val_mae: 5.8547\n",
            "Epoch 84/500\n",
            "22/22 [==============================] - 1s 34ms/step - loss: 5.5422 - mae: 6.0248 - val_loss: 5.1886 - val_mae: 5.6788\n",
            "Epoch 85/500\n",
            "22/22 [==============================] - 1s 38ms/step - loss: 5.4921 - mae: 5.9718 - val_loss: 4.9528 - val_mae: 5.4305\n",
            "Epoch 86/500\n",
            "22/22 [==============================] - 1s 38ms/step - loss: 5.4325 - mae: 5.9121 - val_loss: 5.3766 - val_mae: 5.8685\n",
            "Epoch 87/500\n",
            "22/22 [==============================] - 1s 35ms/step - loss: 6.2881 - mae: 6.7772 - val_loss: 5.4663 - val_mae: 5.9575\n",
            "Epoch 88/500\n",
            "22/22 [==============================] - 1s 23ms/step - loss: 5.4215 - mae: 5.9026 - val_loss: 4.9079 - val_mae: 5.3850\n",
            "Epoch 89/500\n",
            "22/22 [==============================] - 1s 23ms/step - loss: 5.4074 - mae: 5.8926 - val_loss: 5.0665 - val_mae: 5.5559\n",
            "Epoch 90/500\n",
            "22/22 [==============================] - 1s 23ms/step - loss: 5.4058 - mae: 5.8888 - val_loss: 4.9058 - val_mae: 5.3849\n",
            "Epoch 91/500\n",
            "22/22 [==============================] - 1s 29ms/step - loss: 5.4486 - mae: 5.9245 - val_loss: 4.9694 - val_mae: 5.4545\n",
            "Epoch 92/500\n",
            "22/22 [==============================] - 1s 29ms/step - loss: 5.3691 - mae: 5.8541 - val_loss: 5.1056 - val_mae: 5.5955\n",
            "Epoch 93/500\n",
            "22/22 [==============================] - 1s 23ms/step - loss: 5.3741 - mae: 5.8578 - val_loss: 5.0472 - val_mae: 5.5360\n",
            "Epoch 94/500\n",
            "22/22 [==============================] - 1s 23ms/step - loss: 5.4137 - mae: 5.9002 - val_loss: 5.3575 - val_mae: 5.8494\n",
            "Epoch 95/500\n",
            "22/22 [==============================] - 1s 23ms/step - loss: 5.5394 - mae: 6.0236 - val_loss: 5.0176 - val_mae: 5.5059\n",
            "Epoch 96/500\n",
            "22/22 [==============================] - 1s 23ms/step - loss: 5.3916 - mae: 5.8790 - val_loss: 4.9072 - val_mae: 5.3847\n",
            "Epoch 97/500\n",
            "22/22 [==============================] - 1s 24ms/step - loss: 5.3979 - mae: 5.8758 - val_loss: 5.0689 - val_mae: 5.5583\n",
            "Epoch 98/500\n",
            "22/22 [==============================] - 1s 23ms/step - loss: 5.4482 - mae: 5.9374 - val_loss: 4.9057 - val_mae: 5.3837\n",
            "Epoch 99/500\n",
            "22/22 [==============================] - 1s 29ms/step - loss: 5.4977 - mae: 5.9761 - val_loss: 5.0989 - val_mae: 5.5887\n",
            "Epoch 100/500\n",
            "22/22 [==============================] - 1s 23ms/step - loss: 5.6167 - mae: 6.0926 - val_loss: 5.5621 - val_mae: 6.0514\n",
            "22/22 [==============================] - 0s 9ms/step - loss: 4.9029 - mae: 5.3818\n"
          ]
        },
        {
          "output_type": "execute_result",
          "data": {
            "text/plain": [
              "5381829.738616943"
            ]
          },
          "metadata": {},
          "execution_count": 32
        }
      ]
    },
    {
      "cell_type": "markdown",
      "source": [
        "mae at the end for Simple RNN is 5.1149, loss is 4.6376, value loss is 4.9043"
      ],
      "metadata": {
        "id": "PVDJGd1t4L8p"
      }
    },
    {
      "cell_type": "markdown",
      "source": [
        "# Deep RNNs"
      ],
      "metadata": {
        "id": "HsZrJw28UjNb"
      }
    },
    {
      "cell_type": "code",
      "source": [
        "deep_model = tf.keras.Sequential([\n",
        "    tf.keras.layers.SimpleRNN(32, return_sequences=True, input_shape=[None, 1]),\n",
        "    tf.keras.layers.SimpleRNN(32, return_sequences=True),\n",
        "    tf.keras.layers.SimpleRNN(32),\n",
        "    tf.keras.layers.Dense(1)\n",
        "])"
      ],
      "metadata": {
        "id": "HKZ3F1PbUf-d"
      },
      "execution_count": null,
      "outputs": []
    },
    {
      "cell_type": "code",
      "source": [
        "# Compiles, fits, and evaluates model\n",
        "fit_and_evaluate(deep_model, train_ds, valid_ds, learning_rate=0.05)"
      ],
      "metadata": {
        "id": "rTHApFPcU5v9",
        "colab": {
          "base_uri": "https://localhost:8080/"
        },
        "outputId": "1eb16295-d874-41f2-da4d-4e7e5539f2a6"
      },
      "execution_count": null,
      "outputs": [
        {
          "output_type": "stream",
          "name": "stdout",
          "text": [
            "Epoch 1/500\n",
            "22/22 [==============================] - 5s 82ms/step - loss: 9.6240 - mae: 10.1156 - val_loss: 5.1497 - val_mae: 5.6401\n",
            "Epoch 2/500\n",
            "22/22 [==============================] - 1s 50ms/step - loss: 5.4044 - mae: 5.8890 - val_loss: 5.1814 - val_mae: 5.6714\n",
            "Epoch 3/500\n",
            "22/22 [==============================] - 1s 51ms/step - loss: 5.4408 - mae: 5.9266 - val_loss: 5.0691 - val_mae: 5.5584\n",
            "Epoch 4/500\n",
            "22/22 [==============================] - 1s 52ms/step - loss: 5.4287 - mae: 5.9131 - val_loss: 4.9704 - val_mae: 5.4556\n",
            "Epoch 5/500\n",
            "22/22 [==============================] - 1s 49ms/step - loss: 5.4586 - mae: 5.9393 - val_loss: 4.9334 - val_mae: 5.4122\n",
            "Epoch 6/500\n",
            "22/22 [==============================] - 1s 50ms/step - loss: 5.4005 - mae: 5.8866 - val_loss: 5.0253 - val_mae: 5.5138\n",
            "Epoch 7/500\n",
            "22/22 [==============================] - 2s 95ms/step - loss: 5.3582 - mae: 5.8404 - val_loss: 5.5253 - val_mae: 6.0156\n",
            "Epoch 8/500\n",
            "22/22 [==============================] - 3s 96ms/step - loss: 5.4621 - mae: 5.9458 - val_loss: 5.6487 - val_mae: 6.1361\n",
            "Epoch 9/500\n",
            "22/22 [==============================] - 2s 74ms/step - loss: 5.6133 - mae: 6.0949 - val_loss: 4.9268 - val_mae: 5.4044\n",
            "Epoch 10/500\n",
            "22/22 [==============================] - 1s 51ms/step - loss: 5.5719 - mae: 6.0494 - val_loss: 4.9204 - val_mae: 5.3970\n",
            "Epoch 11/500\n",
            "22/22 [==============================] - 1s 50ms/step - loss: 5.6386 - mae: 6.1218 - val_loss: 5.0785 - val_mae: 5.5679\n",
            "Epoch 12/500\n",
            "22/22 [==============================] - 1s 50ms/step - loss: 5.4912 - mae: 5.9712 - val_loss: 4.9044 - val_mae: 5.3835\n",
            "Epoch 13/500\n",
            "22/22 [==============================] - 1s 50ms/step - loss: 5.4403 - mae: 5.9220 - val_loss: 5.3594 - val_mae: 5.8514\n",
            "Epoch 14/500\n",
            "22/22 [==============================] - 1s 49ms/step - loss: 5.3434 - mae: 5.8241 - val_loss: 4.9393 - val_mae: 5.4166\n",
            "Epoch 15/500\n",
            "22/22 [==============================] - 1s 51ms/step - loss: 5.4723 - mae: 5.9530 - val_loss: 4.9788 - val_mae: 5.4649\n",
            "Epoch 16/500\n",
            "22/22 [==============================] - 1s 50ms/step - loss: 5.3717 - mae: 5.8552 - val_loss: 4.9917 - val_mae: 5.4787\n",
            "Epoch 17/500\n",
            "22/22 [==============================] - 2s 92ms/step - loss: 5.6548 - mae: 6.1333 - val_loss: 5.2570 - val_mae: 5.7479\n",
            "Epoch 18/500\n",
            "22/22 [==============================] - 2s 70ms/step - loss: 5.4811 - mae: 5.9658 - val_loss: 4.9619 - val_mae: 5.4460\n",
            "Epoch 19/500\n",
            "22/22 [==============================] - 1s 51ms/step - loss: 5.3804 - mae: 5.8665 - val_loss: 4.9275 - val_mae: 5.4052\n",
            "Epoch 20/500\n",
            "22/22 [==============================] - 1s 50ms/step - loss: 5.3834 - mae: 5.8628 - val_loss: 4.9810 - val_mae: 5.4576\n",
            "Epoch 21/500\n",
            "22/22 [==============================] - 1s 50ms/step - loss: 5.6097 - mae: 6.0947 - val_loss: 5.1990 - val_mae: 5.6893\n",
            "Epoch 22/500\n",
            "22/22 [==============================] - 1s 49ms/step - loss: 5.7296 - mae: 6.2204 - val_loss: 5.0029 - val_mae: 5.4794\n",
            "Epoch 23/500\n",
            "22/22 [==============================] - 1s 50ms/step - loss: 5.4237 - mae: 5.9053 - val_loss: 4.9095 - val_mae: 5.3862\n",
            "Epoch 24/500\n",
            "22/22 [==============================] - 1s 49ms/step - loss: 5.7409 - mae: 6.2247 - val_loss: 6.2442 - val_mae: 6.7343\n",
            "Epoch 25/500\n",
            "22/22 [==============================] - 1s 50ms/step - loss: 5.4735 - mae: 5.9590 - val_loss: 5.0361 - val_mae: 5.5247\n",
            "Epoch 26/500\n",
            "22/22 [==============================] - 2s 73ms/step - loss: 5.4037 - mae: 5.8892 - val_loss: 5.1309 - val_mae: 5.6212\n",
            "Epoch 27/500\n",
            "22/22 [==============================] - 2s 96ms/step - loss: 5.7133 - mae: 6.2008 - val_loss: 4.9089 - val_mae: 5.3857\n",
            "Epoch 28/500\n",
            "22/22 [==============================] - 1s 57ms/step - loss: 5.6600 - mae: 6.1430 - val_loss: 5.2326 - val_mae: 5.7233\n",
            "Epoch 29/500\n",
            "22/22 [==============================] - 1s 49ms/step - loss: 5.4132 - mae: 5.8929 - val_loss: 5.0052 - val_mae: 5.4931\n",
            "Epoch 30/500\n",
            "22/22 [==============================] - 1s 49ms/step - loss: 5.3669 - mae: 5.8533 - val_loss: 5.5265 - val_mae: 5.9946\n",
            "Epoch 31/500\n",
            "22/22 [==============================] - 1s 51ms/step - loss: 5.7518 - mae: 6.2329 - val_loss: 5.4108 - val_mae: 5.9022\n",
            "Epoch 32/500\n",
            "22/22 [==============================] - 1s 50ms/step - loss: 5.3945 - mae: 5.8752 - val_loss: 5.6191 - val_mae: 6.1068\n",
            "Epoch 33/500\n",
            "22/22 [==============================] - 1s 49ms/step - loss: 5.4851 - mae: 5.9678 - val_loss: 4.9167 - val_mae: 5.3955\n",
            "Epoch 34/500\n",
            "22/22 [==============================] - 1s 51ms/step - loss: 5.4585 - mae: 5.9404 - val_loss: 4.9059 - val_mae: 5.3837\n",
            "Epoch 35/500\n",
            "22/22 [==============================] - 2s 75ms/step - loss: 5.5189 - mae: 6.0001 - val_loss: 4.9117 - val_mae: 5.3880\n",
            "Epoch 36/500\n",
            "22/22 [==============================] - 2s 71ms/step - loss: 5.4035 - mae: 5.8889 - val_loss: 5.6006 - val_mae: 6.0886\n",
            "Epoch 37/500\n",
            "22/22 [==============================] - 1s 51ms/step - loss: 5.7631 - mae: 6.2436 - val_loss: 5.1860 - val_mae: 5.6517\n",
            "Epoch 38/500\n",
            "22/22 [==============================] - 1s 51ms/step - loss: 5.5847 - mae: 6.0629 - val_loss: 5.0928 - val_mae: 5.5825\n",
            "Epoch 39/500\n",
            "22/22 [==============================] - 1s 51ms/step - loss: 5.6357 - mae: 6.1231 - val_loss: 5.3716 - val_mae: 5.8634\n",
            "Epoch 40/500\n",
            "22/22 [==============================] - 1s 50ms/step - loss: 5.4558 - mae: 5.9393 - val_loss: 5.4343 - val_mae: 5.9255\n",
            "Epoch 41/500\n",
            "22/22 [==============================] - 1s 49ms/step - loss: 5.5936 - mae: 6.0773 - val_loss: 5.5996 - val_mae: 6.0878\n",
            "Epoch 42/500\n",
            "22/22 [==============================] - 1s 51ms/step - loss: 5.7470 - mae: 6.2296 - val_loss: 5.0391 - val_mae: 5.5151\n",
            "Epoch 43/500\n",
            "22/22 [==============================] - 1s 50ms/step - loss: 5.3829 - mae: 5.8629 - val_loss: 4.9914 - val_mae: 5.4785\n",
            "Epoch 44/500\n",
            "22/22 [==============================] - 2s 90ms/step - loss: 5.3890 - mae: 5.8722 - val_loss: 4.9185 - val_mae: 5.3971\n",
            "Epoch 45/500\n",
            "22/22 [==============================] - 2s 96ms/step - loss: 5.5703 - mae: 6.0473 - val_loss: 5.4668 - val_mae: 5.9580\n",
            "Epoch 46/500\n",
            "22/22 [==============================] - 1s 52ms/step - loss: 5.5957 - mae: 6.0809 - val_loss: 4.9022 - val_mae: 5.3811\n",
            "Epoch 47/500\n",
            "22/22 [==============================] - 1s 52ms/step - loss: 5.7494 - mae: 6.2312 - val_loss: 5.2345 - val_mae: 5.7252\n",
            "Epoch 48/500\n",
            "22/22 [==============================] - 1s 51ms/step - loss: 5.3349 - mae: 5.8183 - val_loss: 6.4556 - val_mae: 6.9444\n",
            "Epoch 49/500\n",
            "22/22 [==============================] - 1s 50ms/step - loss: 5.9361 - mae: 6.4197 - val_loss: 4.9685 - val_mae: 5.4535\n",
            "Epoch 50/500\n",
            "22/22 [==============================] - 1s 49ms/step - loss: 5.4359 - mae: 5.9169 - val_loss: 5.1867 - val_mae: 5.6769\n",
            "Epoch 51/500\n",
            "22/22 [==============================] - 1s 51ms/step - loss: 5.3448 - mae: 5.8299 - val_loss: 5.6506 - val_mae: 6.1382\n",
            "Epoch 52/500\n",
            "22/22 [==============================] - 1s 51ms/step - loss: 5.3872 - mae: 5.8676 - val_loss: 5.0027 - val_mae: 5.4904\n",
            "Epoch 53/500\n",
            "22/22 [==============================] - 1s 50ms/step - loss: 5.3823 - mae: 5.8680 - val_loss: 5.1526 - val_mae: 5.6429\n",
            "Epoch 54/500\n",
            "22/22 [==============================] - 2s 85ms/step - loss: 5.4456 - mae: 5.9317 - val_loss: 5.5960 - val_mae: 6.0843\n",
            "Epoch 55/500\n",
            "22/22 [==============================] - 2s 70ms/step - loss: 5.5785 - mae: 6.0650 - val_loss: 4.9039 - val_mae: 5.3826\n",
            "Epoch 56/500\n",
            "22/22 [==============================] - 1s 49ms/step - loss: 5.3974 - mae: 5.8769 - val_loss: 5.0767 - val_mae: 5.5661\n",
            "Epoch 57/500\n",
            "22/22 [==============================] - 1s 50ms/step - loss: 5.5421 - mae: 6.0311 - val_loss: 4.9101 - val_mae: 5.3892\n",
            "Epoch 58/500\n",
            "22/22 [==============================] - 1s 51ms/step - loss: 5.4729 - mae: 5.9534 - val_loss: 4.9030 - val_mae: 5.3819\n",
            "Epoch 59/500\n",
            "22/22 [==============================] - 1s 49ms/step - loss: 5.5298 - mae: 6.0133 - val_loss: 5.0431 - val_mae: 5.5318\n",
            "Epoch 60/500\n",
            "22/22 [==============================] - 1s 66ms/step - loss: 5.7743 - mae: 6.2586 - val_loss: 5.0196 - val_mae: 5.5080\n",
            "Epoch 61/500\n",
            "22/22 [==============================] - 1s 54ms/step - loss: 5.4034 - mae: 5.8884 - val_loss: 4.9325 - val_mae: 5.4097\n",
            "Epoch 62/500\n",
            "22/22 [==============================] - 2s 92ms/step - loss: 5.3655 - mae: 5.8481 - val_loss: 4.9084 - val_mae: 5.3854\n",
            "Epoch 63/500\n",
            "22/22 [==============================] - 1s 61ms/step - loss: 5.4492 - mae: 5.9340 - val_loss: 4.9060 - val_mae: 5.3851\n",
            "Epoch 64/500\n",
            "22/22 [==============================] - 1s 50ms/step - loss: 5.5419 - mae: 6.0244 - val_loss: 4.9123 - val_mae: 5.3885\n",
            "Epoch 65/500\n",
            "22/22 [==============================] - 1s 50ms/step - loss: 5.5105 - mae: 5.9924 - val_loss: 4.9152 - val_mae: 5.3913\n",
            "Epoch 66/500\n",
            "22/22 [==============================] - 1s 52ms/step - loss: 5.3675 - mae: 5.8545 - val_loss: 6.0958 - val_mae: 6.5833\n",
            "Epoch 67/500\n",
            "22/22 [==============================] - 1s 50ms/step - loss: 6.0123 - mae: 6.4931 - val_loss: 5.2224 - val_mae: 5.7130\n",
            "Epoch 68/500\n",
            "22/22 [==============================] - 1s 50ms/step - loss: 5.4288 - mae: 5.9098 - val_loss: 5.6094 - val_mae: 6.0974\n",
            "Epoch 69/500\n",
            "22/22 [==============================] - 1s 50ms/step - loss: 5.4727 - mae: 5.9557 - val_loss: 4.9890 - val_mae: 5.4657\n",
            "Epoch 70/500\n",
            "22/22 [==============================] - 1s 57ms/step - loss: 5.4982 - mae: 5.9796 - val_loss: 5.2733 - val_mae: 5.7643\n",
            "Epoch 71/500\n",
            "22/22 [==============================] - 2s 76ms/step - loss: 5.6328 - mae: 6.1123 - val_loss: 4.9312 - val_mae: 5.4095\n",
            "Epoch 72/500\n",
            "22/22 [==============================] - 1s 51ms/step - loss: 5.3642 - mae: 5.8451 - val_loss: 5.1374 - val_mae: 5.6277\n",
            "Epoch 73/500\n",
            "22/22 [==============================] - 1s 50ms/step - loss: 5.5182 - mae: 6.0041 - val_loss: 4.9093 - val_mae: 5.3861\n",
            "Epoch 74/500\n",
            "22/22 [==============================] - 1s 50ms/step - loss: 5.4289 - mae: 5.9090 - val_loss: 5.6019 - val_mae: 6.0900\n",
            "Epoch 75/500\n",
            "22/22 [==============================] - 2s 75ms/step - loss: 5.4245 - mae: 5.9111 - val_loss: 4.9531 - val_mae: 5.4308\n",
            "Epoch 76/500\n",
            "22/22 [==============================] - 3s 111ms/step - loss: 5.4869 - mae: 5.9651 - val_loss: 4.9410 - val_mae: 5.4207\n",
            "Epoch 77/500\n",
            "22/22 [==============================] - 3s 133ms/step - loss: 5.4379 - mae: 5.9201 - val_loss: 5.7537 - val_mae: 6.2237\n",
            "Epoch 78/500\n",
            "22/22 [==============================] - 3s 123ms/step - loss: 5.7765 - mae: 6.2625 - val_loss: 5.0637 - val_mae: 5.5529\n",
            "Epoch 79/500\n",
            "22/22 [==============================] - 3s 107ms/step - loss: 5.3552 - mae: 5.8358 - val_loss: 5.5757 - val_mae: 6.0646\n",
            "Epoch 80/500\n",
            "22/22 [==============================] - 3s 116ms/step - loss: 5.5561 - mae: 6.0376 - val_loss: 4.9251 - val_mae: 5.4026\n",
            "Epoch 81/500\n",
            "22/22 [==============================] - 4s 175ms/step - loss: 5.5077 - mae: 5.9870 - val_loss: 4.9039 - val_mae: 5.3828\n",
            "Epoch 82/500\n",
            "22/22 [==============================] - 2s 84ms/step - loss: 5.5825 - mae: 6.0631 - val_loss: 5.1131 - val_mae: 5.6032\n",
            "Epoch 83/500\n",
            "22/22 [==============================] - 1s 51ms/step - loss: 5.7022 - mae: 6.1897 - val_loss: 5.0151 - val_mae: 5.5033\n",
            "Epoch 84/500\n",
            "22/22 [==============================] - 1s 49ms/step - loss: 5.5957 - mae: 6.0727 - val_loss: 5.1606 - val_mae: 5.6509\n",
            "Epoch 85/500\n",
            "22/22 [==============================] - 1s 51ms/step - loss: 5.7764 - mae: 6.2632 - val_loss: 4.9569 - val_mae: 5.4401\n",
            "Epoch 86/500\n",
            "22/22 [==============================] - 1s 50ms/step - loss: 5.5925 - mae: 6.0708 - val_loss: 5.5330 - val_mae: 6.0232\n",
            "Epoch 87/500\n",
            "22/22 [==============================] - 1s 49ms/step - loss: 5.6246 - mae: 6.1071 - val_loss: 5.4015 - val_mae: 5.8931\n",
            "Epoch 88/500\n",
            "22/22 [==============================] - 1s 54ms/step - loss: 5.3736 - mae: 5.8560 - val_loss: 4.9156 - val_mae: 5.3918\n",
            "Epoch 89/500\n",
            "22/22 [==============================] - 2s 81ms/step - loss: 5.3443 - mae: 5.8293 - val_loss: 5.2009 - val_mae: 5.6913\n",
            "Epoch 90/500\n",
            "22/22 [==============================] - 2s 86ms/step - loss: 5.4295 - mae: 5.9134 - val_loss: 4.9082 - val_mae: 5.3852\n",
            "Epoch 91/500\n",
            "22/22 [==============================] - 1s 50ms/step - loss: 5.3790 - mae: 5.8612 - val_loss: 5.7366 - val_mae: 6.2247\n",
            "Epoch 92/500\n",
            "22/22 [==============================] - 1s 51ms/step - loss: 5.5931 - mae: 6.0766 - val_loss: 4.9903 - val_mae: 5.4773\n",
            "Epoch 93/500\n",
            "22/22 [==============================] - 1s 50ms/step - loss: 5.4704 - mae: 5.9526 - val_loss: 5.8036 - val_mae: 6.2923\n",
            "Epoch 94/500\n",
            "22/22 [==============================] - 1s 51ms/step - loss: 5.5387 - mae: 6.0234 - val_loss: 5.0395 - val_mae: 5.5155\n",
            "Epoch 95/500\n",
            "22/22 [==============================] - 1s 51ms/step - loss: 5.8165 - mae: 6.2923 - val_loss: 5.9358 - val_mae: 6.4238\n",
            "Epoch 96/500\n",
            "22/22 [==============================] - 1s 51ms/step - loss: 5.6378 - mae: 6.1197 - val_loss: 5.0995 - val_mae: 5.5893\n",
            "22/22 [==============================] - 0s 14ms/step - loss: 4.9022 - mae: 5.3811\n"
          ]
        },
        {
          "output_type": "execute_result",
          "data": {
            "text/plain": [
              "5381066.799163818"
            ]
          },
          "metadata": {},
          "execution_count": 34
        }
      ]
    },
    {
      "cell_type": "markdown",
      "source": [
        "Deep RNN mae = 5.3811, loss = 4.9022, value loss = 5.0211"
      ],
      "metadata": {
        "id": "HlF2M_RM9Fcb"
      }
    },
    {
      "cell_type": "markdown",
      "source": [
        "# LSTM Model"
      ],
      "metadata": {
        "id": "G_GG-Hr8JMqM"
      }
    },
    {
      "cell_type": "code",
      "source": [
        "print(train_ds.element_spec)"
      ],
      "metadata": {
        "colab": {
          "base_uri": "https://localhost:8080/"
        },
        "id": "35fgWdwtKeNn",
        "outputId": "eeecfc62-83e7-46a1-8f05-08dfb8e595db"
      },
      "execution_count": null,
      "outputs": [
        {
          "output_type": "stream",
          "name": "stdout",
          "text": [
            "(TensorSpec(shape=(None, None), dtype=tf.float64, name=None), TensorSpec(shape=(None,), dtype=tf.float64, name=None))\n"
          ]
        }
      ]
    },
    {
      "cell_type": "code",
      "source": [
        "# Define LSTM model\n",
        "\n",
        "lstm_model = tf.keras.Sequential([\n",
        "    tf.keras.layers.LSTM(32, return_sequences=True, input_shape=[None, 1]),\n",
        "    tf.keras.layers.Dense(1)\n",
        "])"
      ],
      "metadata": {
        "id": "lFtPkkivHPvM"
      },
      "execution_count": null,
      "outputs": []
    },
    {
      "cell_type": "code",
      "source": [
        "lstm_model.layers[1].input_shape"
      ],
      "metadata": {
        "colab": {
          "base_uri": "https://localhost:8080/"
        },
        "id": "RTTPWyzfO7CG",
        "outputId": "a103e3df-58b5-437c-bdd5-5fc60cb56226"
      },
      "execution_count": null,
      "outputs": [
        {
          "output_type": "execute_result",
          "data": {
            "text/plain": [
              "(None, None, 32)"
            ]
          },
          "metadata": {},
          "execution_count": 40
        }
      ]
    },
    {
      "cell_type": "code",
      "source": [
        "fit_and_evaluate(lstm_model, train_ds, valid_ds, learning_rate=0.05, epochs=5)"
      ],
      "metadata": {
        "colab": {
          "base_uri": "https://localhost:8080/"
        },
        "id": "7TBia-cMHv3p",
        "outputId": "6e2c8c52-f5da-410c-ad48-2919c8b67a94"
      },
      "execution_count": null,
      "outputs": [
        {
          "output_type": "stream",
          "name": "stdout",
          "text": [
            "Epoch 1/5\n",
            "22/22 [==============================] - 4s 65ms/step - loss: 11.9488 - mae: 12.4391 - val_loss: 6.9062 - val_mae: 7.3945\n",
            "Epoch 2/5\n",
            "22/22 [==============================] - 1s 41ms/step - loss: 6.3244 - mae: 6.8130 - val_loss: 5.9865 - val_mae: 6.4746\n",
            "Epoch 3/5\n",
            "22/22 [==============================] - 1s 41ms/step - loss: 5.5167 - mae: 6.0016 - val_loss: 5.6969 - val_mae: 6.1844\n",
            "Epoch 4/5\n",
            "22/22 [==============================] - 1s 37ms/step - loss: 5.4433 - mae: 5.9276 - val_loss: 5.6135 - val_mae: 6.1027\n",
            "Epoch 5/5\n",
            "22/22 [==============================] - 2s 69ms/step - loss: 5.6484 - mae: 6.1315 - val_loss: 5.1234 - val_mae: 5.6130\n",
            "22/22 [==============================] - 0s 16ms/step - loss: 5.1234 - mae: 5.6130\n"
          ]
        },
        {
          "output_type": "execute_result",
          "data": {
            "text/plain": [
              "5612957.954406738"
            ]
          },
          "metadata": {},
          "execution_count": 41
        }
      ]
    },
    {
      "cell_type": "markdown",
      "source": [
        "LSTM mae = 5.6130, loss = 5.1234, val_loss = 5.1234 at last epoch."
      ],
      "metadata": {
        "id": "A2eirPexNJT2"
      }
    },
    {
      "cell_type": "markdown",
      "source": [
        "# Evaluating RNN Models\n",
        "**MAE** = Mean Average Error\n",
        "\n",
        "\n",
        "**RSME** = Root Square Mean Error"
      ],
      "metadata": {
        "id": "b_LlqHNNVTzm"
      }
    },
    {
      "cell_type": "code",
      "source": [
        "# Simple RNN mae, loss, val_loss\n",
        "simple_RNN_mae = 5.1149 # Taken from last epoch\n",
        "simple_RNN_loss = 4.6376\n",
        "simple_RNN_val_loss = 4.9043"
      ],
      "metadata": {
        "id": "vl_-uQxB6Dy0"
      },
      "execution_count": null,
      "outputs": []
    },
    {
      "cell_type": "code",
      "source": [
        "# Deep RNN mae, loss, val_loss\n",
        "deep_RNN_mae = 5.3811 # Taken from last epoch\n",
        "deep_RNN_loss = 4.9022\n",
        "deep_RNN_val_loss = 5.0211"
      ],
      "metadata": {
        "id": "-Hu0-meY6Iqc"
      },
      "execution_count": null,
      "outputs": []
    },
    {
      "cell_type": "code",
      "source": [
        "#LSTM mae, loss, val_loss\n",
        "lstm_mae = 5.6130\n",
        "lstm_loss= 5.1234\n",
        "lstm_val_loss = 5.1234"
      ],
      "metadata": {
        "id": "M-K5v5bbNTAr"
      },
      "execution_count": null,
      "outputs": []
    },
    {
      "cell_type": "markdown",
      "source": [
        "Now we're going to compare each of the mae's, losses and value of losses."
      ],
      "metadata": {
        "id": "KGjbUNnh7mtD"
      }
    },
    {
      "cell_type": "code",
      "source": [
        "import numpy as np\n",
        "mae_array = np.array([simple_RNN_mae, deep_RNN_mae, lstm_mae])\n",
        "loss_array = np.array([simple_RNN_loss, deep_RNN_loss, lstm_loss])\n",
        "val_loss_array = np.array([simple_RNN_val_loss, deep_RNN_val_loss, lstm_val_loss])\n",
        "model_array = np.array(['Simple RNN', 'Deep RNN', 'LSTM'])"
      ],
      "metadata": {
        "id": "C9BeYzOUPr2t"
      },
      "execution_count": null,
      "outputs": []
    },
    {
      "cell_type": "code",
      "source": [
        "# Plotting error rates separately\n",
        "plt.subplot(131) # mae plot\n",
        "plt.bar(np.array(['Simple', 'Deep', 'LSTM']), mae_array, color=['palevioletred', 'darkseagreen', 'thistle'])\n",
        "plt.ylabel('mae value')\n",
        "\n",
        "# Loss plot\n",
        "plt.subplot(132)\n",
        "plt.bar(np.array(['Simple', 'Deep', 'LSTM']), loss_array, color=['palevioletred', 'darkseagreen', 'thistle'])\n",
        "plt.title('mae, loss, & val_loss in simple, deep, & lstm models')\n",
        "plt.ylabel('loss value')\n",
        "\n",
        "# Loss val plot\n",
        "plt.subplot(133)\n",
        "plt.bar(np.array(['Simple', 'Deep', 'LSTM']), val_loss_array, color=['palevioletred', 'darkseagreen', 'thistle'])\n",
        "plt.ylabel('val loss value')\n",
        "\n",
        "# Showing the plot\n",
        "plt.subplots_adjust(left=0.5, right=2)\n",
        "plt.show()"
      ],
      "metadata": {
        "colab": {
          "base_uri": "https://localhost:8080/",
          "height": 453
        },
        "id": "NFUVeyyO7piD",
        "outputId": "44aa7800-0722-4d3a-a167-ffe280ccbd1f"
      },
      "execution_count": null,
      "outputs": [
        {
          "output_type": "display_data",
          "data": {
            "text/plain": [
              "<Figure size 640x480 with 3 Axes>"
            ],
            "image/png": "[encoded data removed]"
          },
          "metadata": {}
        }
      ]
    },
    {
      "cell_type": "markdown",
      "source": [
        "So, in this case, the Deep RNN actually has a higher mean average error, a higher loss measurement, and a higher value loss measurement, which is interesting, because I would have assumed the RNN model with multiple layers (Deep RNN) would have predicted values better.\n",
        "\n",
        "Simple RNN, which has only one layer of neurons to learn with, performed better here. Perhaps, since this dataset is fairly regular in its patterns, the simple model performed better on the dataset because the dataset itself is simple. On the same wavelength, the Deep RNN model has many parameters and is prone to overfitting. Thus, it's reasonable to conclude the Simple RNN performed better than the Deep RNN due to the lack of complexity in the weather dataset that this model was expecting."
      ],
      "metadata": {
        "id": "Rn0luUl6CA7_"
      }
    },
    {
      "cell_type": "markdown",
      "source": [
        "# References\n",
        "- Chapter 15 of textbook\n",
        "- Google colab file of chapter 15"
      ],
      "metadata": {
        "id": "pbmEXrzz5LEK"
      }
    }
  ]
}